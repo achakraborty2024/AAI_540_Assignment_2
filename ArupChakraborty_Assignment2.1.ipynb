{
 "cells": [
  {
   "cell_type": "markdown",
   "id": "a8efa264",
   "metadata": {},
   "source": [
    "# AWS Data Lake Query Notebook\n",
    "\n",
    "This notebook sets up the environment, configures Athena, and executes various queries to analyze the ingested data from the AWS S3 Data Lake."
   ]
  },
  {
   "cell_type": "code",
   "execution_count": 2,
   "id": "32a179b6-c3e2-4192-8ac6-7020b428c257",
   "metadata": {},
   "outputs": [
    {
     "name": "stdout",
     "output_type": "stream",
     "text": [
      "sagemaker.config INFO - Not applying SDK defaults from location: /etc/xdg/sagemaker/config.yaml\n",
      "sagemaker.config INFO - Not applying SDK defaults from location: /home/sagemaker-user/.config/sagemaker/config.yaml\n"
     ]
    }
   ],
   "source": [
    "import boto3\n",
    "import sagemaker\n",
    "import pandas as pd\n",
    "\n",
    "sess = sagemaker.Session()\n",
    "bucket = sess.default_bucket()\n",
    "role = sagemaker.get_execution_role()\n",
    "region = boto3.Session().region_name\n",
    "account_id = boto3.client(\"sts\").get_caller_identity().get(\"Account\")\n",
    "\n",
    "sm = boto3.Session().client(service_name=\"sagemaker\", region_name=region)"
   ]
  },
  {
   "cell_type": "code",
   "execution_count": 3,
   "id": "416b5d7a-c516-44b7-9610-a862bfb3d506",
   "metadata": {},
   "outputs": [
    {
     "name": "stdout",
     "output_type": "stream",
     "text": [
      "s3://sagemaker-us-east-1-672518276407/amazon-reviews-pds/tsv\n"
     ]
    }
   ],
   "source": [
    "s3_private_path_tsv = \"s3://{}/amazon-reviews-pds/tsv\".format(bucket)\n",
    "print(s3_private_path_tsv)"
   ]
  },
  {
   "cell_type": "code",
   "execution_count": 4,
   "id": "c73673d5-6a26-485f-825b-9096bdc7d47a",
   "metadata": {},
   "outputs": [
    {
     "name": "stdout",
     "output_type": "stream",
     "text": [
      "upload: ./dataset.csv to s3://sagemaker-us-east-1-672518276407/amazon-reviews-pds/tsv/dataset.csv\n"
     ]
    }
   ],
   "source": [
    "!aws s3 cp \"dataset.csv\" $s3_private_path_tsv/"
   ]
  },
  {
   "cell_type": "code",
   "execution_count": 5,
   "id": "4a5cefd1-6db7-4c15-ae08-d66d4c66a073",
   "metadata": {},
   "outputs": [
    {
     "name": "stdout",
     "output_type": "stream",
     "text": [
      "s3://sagemaker-us-east-1-672518276407/amazon-reviews-pds/tsv\n"
     ]
    }
   ],
   "source": [
    "print(s3_private_path_tsv)"
   ]
  },
  {
   "cell_type": "code",
   "execution_count": 41,
   "id": "dfde47e2-c2d6-443f-8f87-13c4770fb494",
   "metadata": {},
   "outputs": [
    {
     "name": "stdout",
     "output_type": "stream",
     "text": [
      "   Unnamed: 0                track_id                 artists  \\\n",
      "0           0  5SuOikwiRyPMVoIQDJUgSV             Gen Hoshino   \n",
      "1           1  4qPNDBW1i3p13qLCt0Ki3A            Ben Woodward   \n",
      "2           2  1iJBSr7s7jYXzM8EGcbK5b  Ingrid Michaelson;ZAYN   \n",
      "3           3  6lfxq3CG4xtTiEg7opyCyx            Kina Grannis   \n",
      "4           4  5vjLSffimiIP26QG5WcN2K        Chord Overstreet   \n",
      "\n",
      "                                          album_name  \\\n",
      "0                                             Comedy   \n",
      "1                                   Ghost (Acoustic)   \n",
      "2                                     To Begin Again   \n",
      "3  Crazy Rich Asians (Original Motion Picture Sou...   \n",
      "4                                            Hold On   \n",
      "\n",
      "                   track_name  popularity  duration_ms  explicit  \\\n",
      "0                      Comedy          73       230666     False   \n",
      "1            Ghost - Acoustic          55       149610     False   \n",
      "2              To Begin Again          57       210826     False   \n",
      "3  Can't Help Falling In Love          71       201933     False   \n",
      "4                     Hold On          82       198853     False   \n",
      "\n",
      "   danceability  energy  ...  loudness  mode  speechiness  acousticness  \\\n",
      "0         0.676  0.4610  ...    -6.746     0       0.1430        0.0322   \n",
      "1         0.420  0.1660  ...   -17.235     1       0.0763        0.9240   \n",
      "2         0.438  0.3590  ...    -9.734     1       0.0557        0.2100   \n",
      "3         0.266  0.0596  ...   -18.515     1       0.0363        0.9050   \n",
      "4         0.618  0.4430  ...    -9.681     1       0.0526        0.4690   \n",
      "\n",
      "   instrumentalness  liveness  valence    tempo  time_signature  track_genre  \n",
      "0          0.000001    0.3580    0.715   87.917               4     acoustic  \n",
      "1          0.000006    0.1010    0.267   77.489               4     acoustic  \n",
      "2          0.000000    0.1170    0.120   76.332               4     acoustic  \n",
      "3          0.000071    0.1320    0.143  181.740               3     acoustic  \n",
      "4          0.000000    0.0829    0.167  119.949               4     acoustic  \n",
      "\n",
      "[5 rows x 21 columns]\n"
     ]
    }
   ],
   "source": [
    "import boto3\n",
    "import pandas as pd\n",
    "from io import StringIO\n",
    "\n",
    "# S3 bucket and file path\n",
    "bucket_name = \"sagemaker-us-east-1-672518276407\"\n",
    "file_key = \"amazon-reviews-pds/tsv/dataset.csv\"\n",
    "\n",
    "# Create an S3 client\n",
    "s3 = boto3.client(\"s3\")\n",
    "\n",
    "try:\n",
    "    # Fetch the CSV file from S3\n",
    "    response = s3.get_object(Bucket=bucket_name, Key=file_key)\n",
    "    \n",
    "    # Read the content of the file\n",
    "    content = response[\"Body\"].read().decode(\"utf-8\")\n",
    "    \n",
    "    # Load the content into a DataFrame\n",
    "    data = pd.read_csv(StringIO(content))\n",
    "    \n",
    "    # Display the first few rows\n",
    "    print(data.head())\n",
    "except Exception as e:\n",
    "    print(f\"Error occurred: {e}\")"
   ]
  },
  {
   "cell_type": "code",
   "execution_count": 43,
   "id": "55f299e2-4661-4e32-88fa-cdf195054c68",
   "metadata": {},
   "outputs": [
    {
     "name": "stdout",
     "output_type": "stream",
     "text": [
      "Songs with popularity ≥ 99:\n",
      "                    artists                             track_name  popularity\n",
      "20001  Sam Smith;Kim Petras              Unholy (feat. Kim Petras)         100\n",
      "51664      Bizarrap;Quevedo  Quevedo: Bzrp Music Sessions, Vol. 52          99\n",
      "81051  Sam Smith;Kim Petras              Unholy (feat. Kim Petras)         100\n"
     ]
    }
   ],
   "source": [
    "# Filter songs with popularity greater than or equal to 99\n",
    "df_high_popularity = data[data['popularity'] >= 99]\n",
    "df_high_popularity = df_high_popularity[['artists', 'track_name', 'popularity']]\n",
    "print(\"Songs with popularity ≥ 99:\")\n",
    "print(df_high_popularity)"
   ]
  },
  {
   "cell_type": "code",
   "execution_count": 44,
   "id": "ea2894d0-bd8c-4b79-a524-86f3eb8fd691",
   "metadata": {},
   "outputs": [
    {
     "name": "stdout",
     "output_type": "stream",
     "text": [
      "Artists with an average popularity of 92:\n",
      "                 artists  popularity\n",
      "11491       Harry Styles        92.0\n",
      "22845  Rema;Selena Gomez        92.0\n"
     ]
    }
   ],
   "source": [
    "# Group by artist and calculate the average popularity\n",
    "df_avg_popularity = data.groupby('artists')['popularity'].mean().reset_index()\n",
    "\n",
    "# Filter artists with an average popularity of 92\n",
    "df_avg_popularity_92 = df_avg_popularity[df_avg_popularity['popularity'] == 92]\n",
    "print(\"Artists with an average popularity of 92:\")\n",
    "print(df_avg_popularity_92)\n"
   ]
  },
  {
   "cell_type": "code",
   "execution_count": 46,
   "id": "40342004-9d3e-4ae2-9d3e-8ccc27a64850",
   "metadata": {},
   "outputs": [
    {
     "name": "stdout",
     "output_type": "stream",
     "text": [
      "Top 10 genres with the highest average energy:\n",
      "      track_genre    energy\n",
      "22    death-metal  0.931470\n",
      "42      grindcore  0.924201\n",
      "72      metalcore  0.914485\n",
      "46          happy  0.910971\n",
      "49      hardstyle  0.901246\n",
      "27  drum-and-bass  0.876635\n",
      "6     black-metal  0.874897\n",
      "50    heavy-metal  0.874003\n",
      "78          party  0.871237\n",
      "61         j-idol  0.868677\n"
     ]
    }
   ],
   "source": [
    "# Group by genre and calculate the average energy\n",
    "df_avg_energy = data.groupby('track_genre')['energy'].mean().reset_index()\n",
    "\n",
    "# Get the top 10 genres by average energy\n",
    "df_top10_genres = df_avg_energy.sort_values(by='energy', ascending=False).head(10)\n",
    "print(\"Top 10 genres with the highest average energy:\")\n",
    "print(df_top10_genres)"
   ]
  },
  {
   "cell_type": "code",
   "execution_count": 47,
   "id": "b63effc7-323b-475e-93e4-8feecfdf0ef6",
   "metadata": {},
   "outputs": [
    {
     "name": "stdout",
     "output_type": "stream",
     "text": [
      "Number of tracks featuring Bad Bunny: 48\n"
     ]
    }
   ],
   "source": [
    "# Filter tracks by the artist 'Bad Bunny'\n",
    "bad_bunny_count = data[data['artists'] == 'Bad Bunny'].shape[0]\n",
    "print(f\"Number of tracks featuring Bad Bunny: {bad_bunny_count}\")"
   ]
  },
  {
   "cell_type": "code",
   "execution_count": 48,
   "id": "c9145528-d2db-45a7-bbe1-ebfe0f52245f",
   "metadata": {},
   "outputs": [
    {
     "name": "stdout",
     "output_type": "stream",
     "text": [
      "Top 10 genres by their most popular track:\n",
      "   track_genre  popularity\n",
      "80         pop         100\n",
      "20       dance         100\n",
      "51     hip-hop          99\n",
      "68      latino          98\n",
      "89   reggaeton          98\n",
      "30         edm          98\n",
      "67       latin          98\n",
      "88      reggae          98\n",
      "79       piano          96\n",
      "90        rock          96\n"
     ]
    }
   ],
   "source": [
    "# Group by genre and find the maximum popularity within each genre\n",
    "df_genre_popularity = data.groupby('track_genre')['popularity'].max().reset_index()\n",
    "\n",
    "# Sort by popularity and get the top 10 genres\n",
    "df_top10_popular_genres = df_genre_popularity.sort_values(by='popularity', ascending=False).head(10)\n",
    "print(\"Top 10 genres by their most popular track:\")\n",
    "print(df_top10_popular_genres)"
   ]
  },
  {
   "cell_type": "code",
   "execution_count": 39,
   "id": "63249fe4-4845-4635-9335-2853d0ac450d",
   "metadata": {},
   "outputs": [
    {
     "name": "stderr",
     "output_type": "stream",
     "text": [
      "/tmp/ipykernel_3285/2205842015.py:3: UserWarning: pandas only supports SQLAlchemy connectable (engine/connection) or database string URI or sqlite3 DBAPI2 connection. Other DBAPI2 objects are not tested. Please consider using SQLAlchemy.\n",
      "  df_show = pd.read_sql(statement, conn)\n"
     ]
    },
    {
     "data": {
      "text/html": [
       "<div>\n",
       "<style scoped>\n",
       "    .dataframe tbody tr th:only-of-type {\n",
       "        vertical-align: middle;\n",
       "    }\n",
       "\n",
       "    .dataframe tbody tr th {\n",
       "        vertical-align: top;\n",
       "    }\n",
       "\n",
       "    .dataframe thead th {\n",
       "        text-align: right;\n",
       "    }\n",
       "</style>\n",
       "<table border=\"1\" class=\"dataframe\">\n",
       "  <thead>\n",
       "    <tr style=\"text-align: right;\">\n",
       "      <th></th>\n",
       "      <th>tab_name</th>\n",
       "    </tr>\n",
       "  </thead>\n",
       "  <tbody>\n",
       "    <tr>\n",
       "      <th>0</th>\n",
       "      <td>amazon_reviews_tsv</td>\n",
       "    </tr>\n",
       "  </tbody>\n",
       "</table>\n",
       "</div>"
      ],
      "text/plain": [
       "             tab_name\n",
       "0  amazon_reviews_tsv"
      ]
     },
     "execution_count": 39,
     "metadata": {},
     "output_type": "execute_result"
    }
   ],
   "source": [
    "statement = \"SHOW TABLES in {}\".format('dsoaws')\n",
    "\n",
    "df_show = pd.read_sql(statement, conn)\n",
    "df_show.head(5)"
   ]
  },
  {
   "cell_type": "code",
   "execution_count": 34,
   "id": "7eb8bd26",
   "metadata": {},
   "outputs": [
    {
     "name": "stdout",
     "output_type": "stream",
     "text": [
      "Setup completed.\n"
     ]
    }
   ],
   "source": [
    "# SageMaker session setup\n",
    "sess = sagemaker.Session()\n",
    "bucket = sess.default_bucket()\n",
    "role = sagemaker.get_execution_role()\n",
    "region = boto3.Session().region_name\n",
    "\n",
    "# Athena connection setup\n",
    "database_name = \"dsoaws\"\n",
    "table_name_tsv = \"amazon_reviews_tsv\"\n",
    "\n",
    "conn = connect(region_name=region, s3_staging_dir=s3_staging_dir)\n",
    "print(\"Setup completed.\")\n"
   ]
  },
  {
   "cell_type": "code",
   "execution_count": 61,
   "id": "a1c575d0-a0b3-44bf-96a7-79b54b5a42aa",
   "metadata": {},
   "outputs": [],
   "source": [
    "# Athena connection setup\n",
    "conn = connect(region_name=region, s3_staging_dir=s3_staging_dir)\n",
    "\n",
    "# Improved execute_query function\n",
    "def execute_query(query, description=\"Query Result\"):\n",
    "    \"\"\"\n",
    "    Executes a Pandas query or calculation and prints the result.\n",
    "\n",
    "    Parameters:\n",
    "        query (pd.DataFrame or int): The result of the query.\n",
    "        description (str): A brief description of the query result.\n",
    "    \"\"\"\n",
    "    try:\n",
    "        print(f\"\\n{description}\")\n",
    "        print(\"=\" * len(description))\n",
    "\n",
    "        # Check if the query returned a DataFrame\n",
    "        if isinstance(query, pd.DataFrame):\n",
    "            if not query.empty:\n",
    "                display(query.head(100))  # Display the first 100 rows\n",
    "                print(f\"Total Records: {len(query)}\")\n",
    "            else:\n",
    "                print(\"No matching records found.\")\n",
    "        # Check if the query returned a single value (like a count)\n",
    "        elif isinstance(query, int):\n",
    "            print(f\"Result: {query}\")\n",
    "        else:\n",
    "            print(\"Unexpected query result type.\")\n",
    "    except Exception as e:\n",
    "        print(f\"Error executing query: {e}\")\n"
   ]
  },
  {
   "cell_type": "markdown",
   "id": "6fee940d",
   "metadata": {},
   "source": [
    "## List artist, track_name, and popularity for songs with popularity ≥ 99"
   ]
  },
  {
   "cell_type": "code",
   "execution_count": 62,
   "id": "95c2196c",
   "metadata": {},
   "outputs": [
    {
     "name": "stdout",
     "output_type": "stream",
     "text": [
      "\n",
      "Songs with Popularity ≥ 99 (SQL-like)\n",
      "=====================================\n"
     ]
    },
    {
     "data": {
      "text/html": [
       "<div>\n",
       "<style scoped>\n",
       "    .dataframe tbody tr th:only-of-type {\n",
       "        vertical-align: middle;\n",
       "    }\n",
       "\n",
       "    .dataframe tbody tr th {\n",
       "        vertical-align: top;\n",
       "    }\n",
       "\n",
       "    .dataframe thead th {\n",
       "        text-align: right;\n",
       "    }\n",
       "</style>\n",
       "<table border=\"1\" class=\"dataframe\">\n",
       "  <thead>\n",
       "    <tr style=\"text-align: right;\">\n",
       "      <th></th>\n",
       "      <th>artists</th>\n",
       "      <th>track_name</th>\n",
       "      <th>popularity</th>\n",
       "    </tr>\n",
       "  </thead>\n",
       "  <tbody>\n",
       "    <tr>\n",
       "      <th>0</th>\n",
       "      <td>Sam Smith;Kim Petras</td>\n",
       "      <td>Unholy (feat. Kim Petras)</td>\n",
       "      <td>100</td>\n",
       "    </tr>\n",
       "    <tr>\n",
       "      <th>1</th>\n",
       "      <td>Bizarrap;Quevedo</td>\n",
       "      <td>Quevedo: Bzrp Music Sessions, Vol. 52</td>\n",
       "      <td>99</td>\n",
       "    </tr>\n",
       "    <tr>\n",
       "      <th>2</th>\n",
       "      <td>Sam Smith;Kim Petras</td>\n",
       "      <td>Unholy (feat. Kim Petras)</td>\n",
       "      <td>100</td>\n",
       "    </tr>\n",
       "  </tbody>\n",
       "</table>\n",
       "</div>"
      ],
      "text/plain": [
       "                artists                             track_name  popularity\n",
       "0  Sam Smith;Kim Petras              Unholy (feat. Kim Petras)         100\n",
       "1      Bizarrap;Quevedo  Quevedo: Bzrp Music Sessions, Vol. 52          99\n",
       "2  Sam Smith;Kim Petras              Unholy (feat. Kim Petras)         100"
      ]
     },
     "metadata": {},
     "output_type": "display_data"
    },
    {
     "name": "stdout",
     "output_type": "stream",
     "text": [
      "Total Records: 3\n"
     ]
    }
   ],
   "source": [
    "import pandasql as psql\n",
    "\n",
    "# SQL-like query on the DataFrame\n",
    "query = \"\"\"\n",
    "SELECT artists, track_name, popularity\n",
    "FROM data\n",
    "WHERE popularity >= 99\n",
    "\"\"\"\n",
    "result = psql.sqldf(query, locals())\n",
    "execute_query(result, \"Songs with Popularity ≥ 99 (SQL-like)\")\n"
   ]
  },
  {
   "cell_type": "markdown",
   "id": "bed75722",
   "metadata": {},
   "source": [
    "## List artists with an average popularity of 92"
   ]
  },
  {
   "cell_type": "code",
   "execution_count": 65,
   "id": "e245181b",
   "metadata": {},
   "outputs": [
    {
     "name": "stdout",
     "output_type": "stream",
     "text": [
      "\n",
      "List artists with an average popularity of 92\n",
      "=============================================\n"
     ]
    },
    {
     "data": {
      "text/html": [
       "<div>\n",
       "<style scoped>\n",
       "    .dataframe tbody tr th:only-of-type {\n",
       "        vertical-align: middle;\n",
       "    }\n",
       "\n",
       "    .dataframe tbody tr th {\n",
       "        vertical-align: top;\n",
       "    }\n",
       "\n",
       "    .dataframe thead th {\n",
       "        text-align: right;\n",
       "    }\n",
       "</style>\n",
       "<table border=\"1\" class=\"dataframe\">\n",
       "  <thead>\n",
       "    <tr style=\"text-align: right;\">\n",
       "      <th></th>\n",
       "      <th>artists</th>\n",
       "      <th>avg_popularity</th>\n",
       "    </tr>\n",
       "  </thead>\n",
       "  <tbody>\n",
       "    <tr>\n",
       "      <th>0</th>\n",
       "      <td>Harry Styles</td>\n",
       "      <td>92.0</td>\n",
       "    </tr>\n",
       "    <tr>\n",
       "      <th>1</th>\n",
       "      <td>Rema;Selena Gomez</td>\n",
       "      <td>92.0</td>\n",
       "    </tr>\n",
       "  </tbody>\n",
       "</table>\n",
       "</div>"
      ],
      "text/plain": [
       "             artists  avg_popularity\n",
       "0       Harry Styles            92.0\n",
       "1  Rema;Selena Gomez            92.0"
      ]
     },
     "metadata": {},
     "output_type": "display_data"
    },
    {
     "name": "stdout",
     "output_type": "stream",
     "text": [
      "Total Records: 2\n"
     ]
    }
   ],
   "source": [
    "\n",
    "query = \"\"\"\n",
    "SELECT artists, AVG(popularity) AS avg_popularity\n",
    "FROM data\n",
    "GROUP BY artists\n",
    "HAVING AVG(popularity) = 92\n",
    "\"\"\"\n",
    "result = psql.sqldf(query, locals())\n",
    "execute_query(result, \"List artists with an average popularity of 92\")\n"
   ]
  },
  {
   "cell_type": "markdown",
   "id": "9eb2e08e",
   "metadata": {},
   "source": [
    "## List the Top 10 genres with the highest average energy"
   ]
  },
  {
   "cell_type": "code",
   "execution_count": 66,
   "id": "b339d074",
   "metadata": {},
   "outputs": [
    {
     "name": "stdout",
     "output_type": "stream",
     "text": [
      "\n",
      "List the Top 10 genres with the highest average energy\n",
      "======================================================\n"
     ]
    },
    {
     "data": {
      "text/html": [
       "<div>\n",
       "<style scoped>\n",
       "    .dataframe tbody tr th:only-of-type {\n",
       "        vertical-align: middle;\n",
       "    }\n",
       "\n",
       "    .dataframe tbody tr th {\n",
       "        vertical-align: top;\n",
       "    }\n",
       "\n",
       "    .dataframe thead th {\n",
       "        text-align: right;\n",
       "    }\n",
       "</style>\n",
       "<table border=\"1\" class=\"dataframe\">\n",
       "  <thead>\n",
       "    <tr style=\"text-align: right;\">\n",
       "      <th></th>\n",
       "      <th>track_genre</th>\n",
       "      <th>avg_energy</th>\n",
       "    </tr>\n",
       "  </thead>\n",
       "  <tbody>\n",
       "    <tr>\n",
       "      <th>0</th>\n",
       "      <td>death-metal</td>\n",
       "      <td>0.931470</td>\n",
       "    </tr>\n",
       "    <tr>\n",
       "      <th>1</th>\n",
       "      <td>grindcore</td>\n",
       "      <td>0.924201</td>\n",
       "    </tr>\n",
       "    <tr>\n",
       "      <th>2</th>\n",
       "      <td>metalcore</td>\n",
       "      <td>0.914485</td>\n",
       "    </tr>\n",
       "    <tr>\n",
       "      <th>3</th>\n",
       "      <td>happy</td>\n",
       "      <td>0.910971</td>\n",
       "    </tr>\n",
       "    <tr>\n",
       "      <th>4</th>\n",
       "      <td>hardstyle</td>\n",
       "      <td>0.901246</td>\n",
       "    </tr>\n",
       "    <tr>\n",
       "      <th>5</th>\n",
       "      <td>drum-and-bass</td>\n",
       "      <td>0.876635</td>\n",
       "    </tr>\n",
       "    <tr>\n",
       "      <th>6</th>\n",
       "      <td>black-metal</td>\n",
       "      <td>0.874897</td>\n",
       "    </tr>\n",
       "    <tr>\n",
       "      <th>7</th>\n",
       "      <td>heavy-metal</td>\n",
       "      <td>0.874003</td>\n",
       "    </tr>\n",
       "    <tr>\n",
       "      <th>8</th>\n",
       "      <td>party</td>\n",
       "      <td>0.871237</td>\n",
       "    </tr>\n",
       "    <tr>\n",
       "      <th>9</th>\n",
       "      <td>j-idol</td>\n",
       "      <td>0.868677</td>\n",
       "    </tr>\n",
       "  </tbody>\n",
       "</table>\n",
       "</div>"
      ],
      "text/plain": [
       "     track_genre  avg_energy\n",
       "0    death-metal    0.931470\n",
       "1      grindcore    0.924201\n",
       "2      metalcore    0.914485\n",
       "3          happy    0.910971\n",
       "4      hardstyle    0.901246\n",
       "5  drum-and-bass    0.876635\n",
       "6    black-metal    0.874897\n",
       "7    heavy-metal    0.874003\n",
       "8          party    0.871237\n",
       "9         j-idol    0.868677"
      ]
     },
     "metadata": {},
     "output_type": "display_data"
    },
    {
     "name": "stdout",
     "output_type": "stream",
     "text": [
      "Total Records: 10\n"
     ]
    }
   ],
   "source": [
    "\n",
    "query = \"\"\"\n",
    "SELECT track_genre, AVG(energy) AS avg_energy\n",
    "FROM data\n",
    "GROUP BY track_genre\n",
    "ORDER BY avg_energy DESC\n",
    "LIMIT 10\n",
    "\"\"\"\n",
    "result = psql.sqldf(query, locals())\n",
    "execute_query(result, \"List the Top 10 genres with the highest average energy\")\n"
   ]
  },
  {
   "cell_type": "markdown",
   "id": "81787498",
   "metadata": {},
   "source": [
    "## How many tracks is Bad Bunny on?"
   ]
  },
  {
   "cell_type": "code",
   "execution_count": 67,
   "id": "0214df0c",
   "metadata": {},
   "outputs": [
    {
     "name": "stdout",
     "output_type": "stream",
     "text": [
      "\n",
      "How many tracks is Bad Bunny on?\n",
      "================================\n"
     ]
    },
    {
     "data": {
      "text/html": [
       "<div>\n",
       "<style scoped>\n",
       "    .dataframe tbody tr th:only-of-type {\n",
       "        vertical-align: middle;\n",
       "    }\n",
       "\n",
       "    .dataframe tbody tr th {\n",
       "        vertical-align: top;\n",
       "    }\n",
       "\n",
       "    .dataframe thead th {\n",
       "        text-align: right;\n",
       "    }\n",
       "</style>\n",
       "<table border=\"1\" class=\"dataframe\">\n",
       "  <thead>\n",
       "    <tr style=\"text-align: right;\">\n",
       "      <th></th>\n",
       "      <th>COUNT(*)</th>\n",
       "    </tr>\n",
       "  </thead>\n",
       "  <tbody>\n",
       "    <tr>\n",
       "      <th>0</th>\n",
       "      <td>48</td>\n",
       "    </tr>\n",
       "  </tbody>\n",
       "</table>\n",
       "</div>"
      ],
      "text/plain": [
       "   COUNT(*)\n",
       "0        48"
      ]
     },
     "metadata": {},
     "output_type": "display_data"
    },
    {
     "name": "stdout",
     "output_type": "stream",
     "text": [
      "Total Records: 1\n"
     ]
    }
   ],
   "source": [
    "\n",
    "query = \"\"\"\n",
    "SELECT COUNT(*)\n",
    "FROM data\n",
    "WHERE artists = 'Bad Bunny'\n",
    "\"\"\"\n",
    "result = psql.sqldf(query, locals())\n",
    "execute_query(result, \"How many tracks is Bad Bunny on?\")\n"
   ]
  },
  {
   "cell_type": "markdown",
   "id": "36d256d0",
   "metadata": {},
   "source": [
    "## Show the top 10 genres in terms of popularity, sorted by their most popular track"
   ]
  },
  {
   "cell_type": "code",
   "execution_count": 68,
   "id": "d90e17f4",
   "metadata": {},
   "outputs": [
    {
     "name": "stdout",
     "output_type": "stream",
     "text": [
      "\n",
      "Show the top 10 genres in terms of popularity, sorted by their most popular track\n",
      "=================================================================================\n"
     ]
    },
    {
     "data": {
      "text/html": [
       "<div>\n",
       "<style scoped>\n",
       "    .dataframe tbody tr th:only-of-type {\n",
       "        vertical-align: middle;\n",
       "    }\n",
       "\n",
       "    .dataframe tbody tr th {\n",
       "        vertical-align: top;\n",
       "    }\n",
       "\n",
       "    .dataframe thead th {\n",
       "        text-align: right;\n",
       "    }\n",
       "</style>\n",
       "<table border=\"1\" class=\"dataframe\">\n",
       "  <thead>\n",
       "    <tr style=\"text-align: right;\">\n",
       "      <th></th>\n",
       "      <th>track_genre</th>\n",
       "      <th>max_popularity</th>\n",
       "    </tr>\n",
       "  </thead>\n",
       "  <tbody>\n",
       "    <tr>\n",
       "      <th>0</th>\n",
       "      <td>pop</td>\n",
       "      <td>100</td>\n",
       "    </tr>\n",
       "    <tr>\n",
       "      <th>1</th>\n",
       "      <td>dance</td>\n",
       "      <td>100</td>\n",
       "    </tr>\n",
       "    <tr>\n",
       "      <th>2</th>\n",
       "      <td>hip-hop</td>\n",
       "      <td>99</td>\n",
       "    </tr>\n",
       "    <tr>\n",
       "      <th>3</th>\n",
       "      <td>reggaeton</td>\n",
       "      <td>98</td>\n",
       "    </tr>\n",
       "    <tr>\n",
       "      <th>4</th>\n",
       "      <td>reggae</td>\n",
       "      <td>98</td>\n",
       "    </tr>\n",
       "    <tr>\n",
       "      <th>5</th>\n",
       "      <td>latino</td>\n",
       "      <td>98</td>\n",
       "    </tr>\n",
       "    <tr>\n",
       "      <th>6</th>\n",
       "      <td>latin</td>\n",
       "      <td>98</td>\n",
       "    </tr>\n",
       "    <tr>\n",
       "      <th>7</th>\n",
       "      <td>edm</td>\n",
       "      <td>98</td>\n",
       "    </tr>\n",
       "    <tr>\n",
       "      <th>8</th>\n",
       "      <td>rock</td>\n",
       "      <td>96</td>\n",
       "    </tr>\n",
       "    <tr>\n",
       "      <th>9</th>\n",
       "      <td>piano</td>\n",
       "      <td>96</td>\n",
       "    </tr>\n",
       "  </tbody>\n",
       "</table>\n",
       "</div>"
      ],
      "text/plain": [
       "  track_genre  max_popularity\n",
       "0         pop             100\n",
       "1       dance             100\n",
       "2     hip-hop              99\n",
       "3   reggaeton              98\n",
       "4      reggae              98\n",
       "5      latino              98\n",
       "6       latin              98\n",
       "7         edm              98\n",
       "8        rock              96\n",
       "9       piano              96"
      ]
     },
     "metadata": {},
     "output_type": "display_data"
    },
    {
     "name": "stdout",
     "output_type": "stream",
     "text": [
      "Total Records: 10\n"
     ]
    }
   ],
   "source": [
    "\n",
    "query = \"\"\"\n",
    "SELECT track_genre, MAX(popularity) AS max_popularity\n",
    "FROM data\n",
    "GROUP BY track_genre\n",
    "ORDER BY max_popularity DESC\n",
    "LIMIT 10\n",
    "\"\"\"\n",
    "result = psql.sqldf(query, locals())\n",
    "execute_query(result, \"Show the top 10 genres in terms of popularity, sorted by their most popular track\")"
   ]
  },
  {
   "cell_type": "code",
   "execution_count": null,
   "id": "abfb697a-aed7-4d53-a9d0-26437ac2b6ec",
   "metadata": {},
   "outputs": [],
   "source": []
  }
 ],
 "metadata": {
  "kernelspec": {
   "display_name": "Python 3 (ipykernel)",
   "language": "python",
   "name": "python3"
  },
  "language_info": {
   "codemirror_mode": {
    "name": "ipython",
    "version": 3
   },
   "file_extension": ".py",
   "mimetype": "text/x-python",
   "name": "python",
   "nbconvert_exporter": "python",
   "pygments_lexer": "ipython3",
   "version": "3.12.9"
  }
 },
 "nbformat": 4,
 "nbformat_minor": 5
}
