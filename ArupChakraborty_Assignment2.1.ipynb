{
 "cells": [
  {
   "cell_type": "markdown",
   "id": "a8efa264",
   "metadata": {},
   "source": [
    "# AWS Data Lake Query Notebook\n",
    "\n",
    "This notebook sets up the environment, configures Athena, and executes various queries to analyze the ingested data from the AWS S3 Data Lake."
   ]
  },
  {
   "cell_type": "code",
   "execution_count": 111,
   "id": "32a179b6-c3e2-4192-8ac6-7020b428c257",
   "metadata": {},
   "outputs": [],
   "source": [
    "import boto3\n",
    "import sagemaker\n",
    "import pandas as pd\n",
    "\n",
    "sess = sagemaker.Session()\n",
    "bucket = sess.default_bucket()\n",
    "role = sagemaker.get_execution_role()\n",
    "region = boto3.Session().region_name\n",
    "account_id = boto3.client(\"sts\").get_caller_identity().get(\"Account\")\n",
    "\n",
    "sm = boto3.Session().client(service_name=\"sagemaker\", region_name=region)"
   ]
  },
  {
   "cell_type": "code",
   "execution_count": 112,
   "id": "416b5d7a-c516-44b7-9610-a862bfb3d506",
   "metadata": {},
   "outputs": [
    {
     "name": "stdout",
     "output_type": "stream",
     "text": [
      "s3://sagemaker-us-east-1-672518276407/amazon-reviews-pds/tsv\n"
     ]
    }
   ],
   "source": [
    "s3_private_path_tsv = \"s3://{}/amazon-reviews-pds/tsv\".format(bucket)\n",
    "print(s3_private_path_tsv)"
   ]
  },
  {
   "cell_type": "code",
   "execution_count": 113,
   "id": "c73673d5-6a26-485f-825b-9096bdc7d47a",
   "metadata": {},
   "outputs": [
    {
     "name": "stdout",
     "output_type": "stream",
     "text": [
      "upload: ./dataset.csv to s3://sagemaker-us-east-1-672518276407/amazon-reviews-pds/tsv/dataset.csv\n"
     ]
    }
   ],
   "source": [
    "!aws s3 cp \"dataset.csv\" $s3_private_path_tsv/"
   ]
  },
  {
   "cell_type": "code",
   "execution_count": 114,
   "id": "4a5cefd1-6db7-4c15-ae08-d66d4c66a073",
   "metadata": {},
   "outputs": [
    {
     "name": "stdout",
     "output_type": "stream",
     "text": [
      "s3://sagemaker-us-east-1-672518276407/amazon-reviews-pds/tsv\n"
     ]
    }
   ],
   "source": [
    "print(s3_private_path_tsv)"
   ]
  },
  {
   "cell_type": "code",
   "execution_count": 95,
   "id": "da028ea7-6138-4fed-ab5d-8705bca64c26",
   "metadata": {},
   "outputs": [],
   "source": [
    "from pyathena import connect"
   ]
  },
  {
   "cell_type": "code",
   "execution_count": 119,
   "id": "1744cd3e-a194-4079-9ce7-2d04180c64bc",
   "metadata": {},
   "outputs": [
    {
     "name": "stdout",
     "output_type": "stream",
     "text": [
      "CREATE DATABASE IF NOT EXISTS dsoawsV4\n"
     ]
    }
   ],
   "source": [
    "database_name = \"dsoawsv5\"\n",
    "s3_staging_dir = \"s3://sagemaker-us-east-1-672518276407/amazon-reviews-pds/tsv\"\n",
    "conn = connect(region_name=region, s3_staging_dir=s3_staging_dir)\n",
    "statement = \"CREATE DATABASE IF NOT EXISTS {}\".format(database_name)\n",
    "print(statement)"
   ]
  },
  {
   "cell_type": "code",
   "execution_count": 120,
   "id": "5998b67c-8bd8-4a7b-841a-72a6e961e5e3",
   "metadata": {},
   "outputs": [
    {
     "name": "stderr",
     "output_type": "stream",
     "text": [
      "/tmp/ipykernel_3285/3803073958.py:3: UserWarning: pandas only supports SQLAlchemy connectable (engine/connection) or database string URI or sqlite3 DBAPI2 connection. Other DBAPI2 objects are not tested. Please consider using SQLAlchemy.\n",
      "  pd.read_sql(statement, conn)\n"
     ]
    },
    {
     "data": {
      "text/html": [
       "<div>\n",
       "<style scoped>\n",
       "    .dataframe tbody tr th:only-of-type {\n",
       "        vertical-align: middle;\n",
       "    }\n",
       "\n",
       "    .dataframe tbody tr th {\n",
       "        vertical-align: top;\n",
       "    }\n",
       "\n",
       "    .dataframe thead th {\n",
       "        text-align: right;\n",
       "    }\n",
       "</style>\n",
       "<table border=\"1\" class=\"dataframe\">\n",
       "  <thead>\n",
       "    <tr style=\"text-align: right;\">\n",
       "      <th></th>\n",
       "    </tr>\n",
       "  </thead>\n",
       "  <tbody>\n",
       "  </tbody>\n",
       "</table>\n",
       "</div>"
      ],
      "text/plain": [
       "Empty DataFrame\n",
       "Columns: []\n",
       "Index: []"
      ]
     },
     "execution_count": 120,
     "metadata": {},
     "output_type": "execute_result"
    }
   ],
   "source": [
    "import pandas as pd\n",
    "\n",
    "pd.read_sql(statement, conn)"
   ]
  },
  {
   "cell_type": "code",
   "execution_count": 121,
   "id": "93f6449a-3ed5-4b4b-86cd-680caad06f5c",
   "metadata": {},
   "outputs": [
    {
     "name": "stderr",
     "output_type": "stream",
     "text": [
      "/tmp/ipykernel_3285/3999478089.py:3: UserWarning: pandas only supports SQLAlchemy connectable (engine/connection) or database string URI or sqlite3 DBAPI2 connection. Other DBAPI2 objects are not tested. Please consider using SQLAlchemy.\n",
      "  df_show = pd.read_sql(statement, conn)\n"
     ]
    },
    {
     "data": {
      "text/html": [
       "<div>\n",
       "<style scoped>\n",
       "    .dataframe tbody tr th:only-of-type {\n",
       "        vertical-align: middle;\n",
       "    }\n",
       "\n",
       "    .dataframe tbody tr th {\n",
       "        vertical-align: top;\n",
       "    }\n",
       "\n",
       "    .dataframe thead th {\n",
       "        text-align: right;\n",
       "    }\n",
       "</style>\n",
       "<table border=\"1\" class=\"dataframe\">\n",
       "  <thead>\n",
       "    <tr style=\"text-align: right;\">\n",
       "      <th></th>\n",
       "      <th>database_name</th>\n",
       "    </tr>\n",
       "  </thead>\n",
       "  <tbody>\n",
       "    <tr>\n",
       "      <th>0</th>\n",
       "      <td>default</td>\n",
       "    </tr>\n",
       "    <tr>\n",
       "      <th>1</th>\n",
       "      <td>dsoaws</td>\n",
       "    </tr>\n",
       "    <tr>\n",
       "      <th>2</th>\n",
       "      <td>dsoawsv2</td>\n",
       "    </tr>\n",
       "    <tr>\n",
       "      <th>3</th>\n",
       "      <td>dsoawsv3</td>\n",
       "    </tr>\n",
       "    <tr>\n",
       "      <th>4</th>\n",
       "      <td>dsoawsv4</td>\n",
       "    </tr>\n",
       "  </tbody>\n",
       "</table>\n",
       "</div>"
      ],
      "text/plain": [
       "  database_name\n",
       "0       default\n",
       "1        dsoaws\n",
       "2      dsoawsv2\n",
       "3      dsoawsv3\n",
       "4      dsoawsv4"
      ]
     },
     "execution_count": 121,
     "metadata": {},
     "output_type": "execute_result"
    }
   ],
   "source": [
    "statement = \"SHOW DATABASES\"\n",
    "\n",
    "df_show = pd.read_sql(statement, conn)\n",
    "df_show.head(10)"
   ]
  },
  {
   "cell_type": "markdown",
   "id": "595c62c3-8e08-4ba0-96be-88bee0fbf2bb",
   "metadata": {},
   "source": [
    "## Fix the issue with dataset.csv file"
   ]
  },
  {
   "cell_type": "code",
   "execution_count": 135,
   "id": "8a27352c-a3dc-4487-8fcc-9a3b280faea7",
   "metadata": {},
   "outputs": [
    {
     "name": "stdout",
     "output_type": "stream",
     "text": [
      "Error occurred while inspecting CSV: Error tokenizing data. C error: Expected 1 fields in line 715, saw 2\n",
      "\n"
     ]
    }
   ],
   "source": [
    "import pandas as pd\n",
    "\n",
    "# Path to the uploaded CSV file\n",
    "csv_path = \"./dataset.csv\"\n",
    "\n",
    "try:\n",
    "    # Attempt to read the CSV file with common delimiters and encodings\n",
    "    df_comma = pd.read_csv(csv_path)\n",
    "    df_tab = pd.read_csv(csv_path, delimiter='\\t')\n",
    "    df_pipe = pd.read_csv(csv_path, delimiter='|')\n",
    "\n",
    "    # Display the first few rows and column names for each delimiter\n",
    "    print(\"Comma Delimiter:\")\n",
    "    print(\"Columns:\", df_comma.columns.tolist())\n",
    "    print(df_comma.head(), \"\\n\")\n",
    "\n",
    "    print(\"Tab Delimiter:\")\n",
    "    print(\"Columns:\", df_tab.columns.tolist())\n",
    "    print(df_tab.head(), \"\\n\")\n",
    "\n",
    "    print(\"Pipe Delimiter:\")\n",
    "    print(\"Columns:\", df_pipe.columns.tolist())\n",
    "    print(df_pipe.head(), \"\\n\")\n",
    "\n",
    "    # Check encoding issues\n",
    "    with open(csv_path, 'rb') as file:\n",
    "        raw_data = file.read(1000)  # Read a sample of the file\n",
    "        print(\"Sample Encoding Inspection:\")\n",
    "        print(raw_data[:200])  # Print the first 200 bytes\n",
    "except Exception as e:\n",
    "    print(f\"Error occurred while inspecting CSV: {e}\")\n"
   ]
  },
  {
   "cell_type": "code",
   "execution_count": 136,
   "id": "57ce4a16-481f-4f19-a702-1f41f03f71ca",
   "metadata": {},
   "outputs": [
    {
     "name": "stdout",
     "output_type": "stream",
     "text": [
      "Lines around the problematic area:\n",
      "Line 711: 709,1qHiDbTJI7GB62W3BBFigx,A Great Big World;Futuristic,When the Morning Comes,Hold Each Other (feat. Futuristic),47,216040,False,0.61,0.796,10,-5.431,1,0.0656,0.0365,0.0,0.274,0.51,159.944,4,acoustic\n",
      "Line 712: 710,5msvkAkQ8o2GhNxOu3YW5D,Hanare Gumi,深呼吸,別れの予感,28,274133,False,0.63,0.367,1,-11.054,1,0.0232,0.052,0.000202,0.103,0.547,98.995,4,acoustic\n",
      "Line 713: 711,3YllcvA3PW1DUwjckCVjIw,Ray LaMontagne,MONOVISION,I Was Born To Love You,60,251933,False,0.659,0.236,9,-12.56,1,0.0304,0.84,6.32e-05,0.206,0.216,78.088,4,acoustic\n",
      "Line 714: 712,2cTaSKEc8OZdF6Tpg2QQsS,Aimyon,Heard that there's good pasta,Naked Heart,47,296653,False,0.559,0.448,8,-4.11,1,0.0275,0.537,1.85e-05,0.0915,0.354,148.02,4,acoustic\n",
      "Line 715: 713,1z2fSrYZqrO5tMqzULn9OD,Tyrone Wells,\"The \"\"Hits\"\" | Acoustic\",Days I Will Remember,30,201506,False,0.804,0.457,6,-7.845,1,0.197,0.6,0.0,0.15,0.552,98.035,4,acoustic\n",
      "Line 716: 714,5QRt4QovcONoIVzwnlkU7z,Kaiak,River Love,Smell the Coffee,49,201861,False,0.637,0.46,3,-9.07,1,0.0384,0.855,4.8e-05,0.114,0.345,93.955,4,acoustic\n",
      "Line 717: 715,7Igc6JB0xPDcn5yRkkVGQX,Jason Mraz,Know.,Unlonely,51,231266,False,0.795,0.667,5,-4.831,0,0.0392,0.379,0.0,0.221,0.754,97.987,4,acoustic\n",
      "Line 718: 716,3XfMyT4Xf5LegDhvbrFEjp,Boyce Avenue;Bea Miller,\"Cover Sessions, Vol. 4\",See You Again,50,239802,False,0.57,0.413,9,-7.034,1,0.0345,0.535,0.0,0.076,0.278,152.032,4,acoustic\n",
      "Line 719: 717,3IvEnBPF1egP9y1q3C2Fg4,Sakura Fujiwara,SUPERMARKET,ゆめのなか,28,247666,False,0.565,0.566,6,-7.258,1,0.0272,0.472,0.000426,0.148,0.551,92.017,4,acoustic\n",
      "Line 720: 718,4XBkxG1jC5RBQJt65gma8v,Filip Nordin,Acustic Covers of Popular Songs,More Than You Know - Acoustic Covers of Popular Songs,51,155510,False,0.776,0.319,8,-7.496,1,0.031,0.791,0.0,0.159,0.501,98.016,4,acoustic\n"
     ]
    }
   ],
   "source": [
    "import pandas as pd\n",
    "\n",
    "# Path to the uploaded CSV file\n",
    "csv_path = \"./dataset.csv\"\n",
    "\n",
    "try:\n",
    "    # Open the file and inspect the problematic lines manually\n",
    "    with open(csv_path, 'r', encoding='utf-8') as file:\n",
    "        lines = file.readlines()\n",
    "\n",
    "    # Display lines around the problematic line (715)\n",
    "    print(\"Lines around the problematic area:\")\n",
    "    for i in range(710, 720):\n",
    "        print(f\"Line {i+1}: {lines[i].strip()}\")\n",
    "except Exception as e:\n",
    "    print(f\"Error occurred while reading CSV lines: {e}\")\n"
   ]
  },
  {
   "cell_type": "code",
   "execution_count": 140,
   "id": "63544e92-9861-4290-ae2c-d872680a1873",
   "metadata": {},
   "outputs": [
    {
     "name": "stdout",
     "output_type": "stream",
     "text": [
      "CSV loaded successfully with proper quote handling.\n",
      "   Unnamed: 0                track_id                               artists  \\\n",
      "0           0  5SuOikwiRyPMVoIQDJUgSV                           Gen Hoshino   \n",
      "1           1  4qPNDBW1i3p13qLCt0Ki3A                          Ben Woodward   \n",
      "2           2  1iJBSr7s7jYXzM8EGcbK5b                Ingrid Michaelson;ZAYN   \n",
      "3           3  6lfxq3CG4xtTiEg7opyCyx                          Kina Grannis   \n",
      "4           4  5vjLSffimiIP26QG5WcN2K                      Chord Overstreet   \n",
      "5           5  01MVOl9KtVTNfFiBU9I7dc                          Tyrone Wells   \n",
      "6           6  6Vc5wAMmXdKIAM7WUoEb7N  A Great Big World;Christina Aguilera   \n",
      "7           7  1EzrEOXmMH3G43AXT1y7pA                            Jason Mraz   \n",
      "8           8  0IktbUcnAGrvD03AWnz3Q8             Jason Mraz;Colbie Caillat   \n",
      "9           9  7k9GuJYLp2AzqokyEdwEw2                        Ross Copperman   \n",
      "\n",
      "                                          album_name  \\\n",
      "0                                             Comedy   \n",
      "1                                   Ghost (Acoustic)   \n",
      "2                                     To Begin Again   \n",
      "3  Crazy Rich Asians (Original Motion Picture Sou...   \n",
      "4                                            Hold On   \n",
      "5                               Days I Will Remember   \n",
      "6                        Is There Anybody Out There?   \n",
      "7                We Sing. We Dance. We Steal Things.   \n",
      "8                We Sing. We Dance. We Steal Things.   \n",
      "9                                             Hunger   \n",
      "\n",
      "                   track_name  popularity  duration_ms  explicit  \\\n",
      "0                      Comedy          73       230666     False   \n",
      "1            Ghost - Acoustic          55       149610     False   \n",
      "2              To Begin Again          57       210826     False   \n",
      "3  Can't Help Falling In Love          71       201933     False   \n",
      "4                     Hold On          82       198853     False   \n",
      "5        Days I Will Remember          58       214240     False   \n",
      "6               Say Something          74       229400     False   \n",
      "7                   I'm Yours          80       242946     False   \n",
      "8                       Lucky          74       189613     False   \n",
      "9                      Hunger          56       205594     False   \n",
      "\n",
      "   danceability  energy  ...  loudness  mode  speechiness  acousticness  \\\n",
      "0         0.676  0.4610  ...    -6.746     0       0.1430        0.0322   \n",
      "1         0.420  0.1660  ...   -17.235     1       0.0763        0.9240   \n",
      "2         0.438  0.3590  ...    -9.734     1       0.0557        0.2100   \n",
      "3         0.266  0.0596  ...   -18.515     1       0.0363        0.9050   \n",
      "4         0.618  0.4430  ...    -9.681     1       0.0526        0.4690   \n",
      "5         0.688  0.4810  ...    -8.807     1       0.1050        0.2890   \n",
      "6         0.407  0.1470  ...    -8.822     1       0.0355        0.8570   \n",
      "7         0.703  0.4440  ...    -9.331     1       0.0417        0.5590   \n",
      "8         0.625  0.4140  ...    -8.700     1       0.0369        0.2940   \n",
      "9         0.442  0.6320  ...    -6.770     1       0.0295        0.4260   \n",
      "\n",
      "   instrumentalness  liveness  valence    tempo  time_signature  track_genre  \n",
      "0          0.000001    0.3580   0.7150   87.917               4     acoustic  \n",
      "1          0.000006    0.1010   0.2670   77.489               4     acoustic  \n",
      "2          0.000000    0.1170   0.1200   76.332               4     acoustic  \n",
      "3          0.000071    0.1320   0.1430  181.740               3     acoustic  \n",
      "4          0.000000    0.0829   0.1670  119.949               4     acoustic  \n",
      "5          0.000000    0.1890   0.6660   98.017               4     acoustic  \n",
      "6          0.000003    0.0913   0.0765  141.284               3     acoustic  \n",
      "7          0.000000    0.0973   0.7120  150.960               4     acoustic  \n",
      "8          0.000000    0.1510   0.6690  130.088               4     acoustic  \n",
      "9          0.004190    0.0735   0.1960   78.899               4     acoustic  \n",
      "\n",
      "[10 rows x 21 columns]\n"
     ]
    }
   ],
   "source": [
    "import pandas as pd\n",
    "\n",
    "# Path to the uploaded CSV file\n",
    "csv_path = \"./dataset.csv\"\n",
    "\n",
    "try:\n",
    "    # Correctly load the CSV file by handling embedded quotes and commas\n",
    "    df = pd.read_csv(csv_path, quotechar='\"', escapechar='\\\\', delimiter=',')\n",
    "    print(\"CSV loaded successfully with proper quote handling.\")\n",
    "    print(df.head(10))\n",
    "except Exception as e:\n",
    "    print(f\"Error occurred while loading CSV: {e}\")\n"
   ]
  },
  {
   "cell_type": "markdown",
   "id": "fca477c2-e61d-4d82-b846-5068f13813d5",
   "metadata": {},
   "source": [
    "## Use the cleaned csv file for creating datalake on AWS Athena"
   ]
  },
  {
   "cell_type": "code",
   "execution_count": 142,
   "id": "65ddeb65-e6f9-4fae-98ce-3dba477eb609",
   "metadata": {},
   "outputs": [
    {
     "name": "stdout",
     "output_type": "stream",
     "text": [
      "DataFrame saved to ./cleaned_dataset.csv\n"
     ]
    }
   ],
   "source": [
    "csv_output_path = \"./cleaned_dataset.csv\"\n",
    "df.to_csv(csv_output_path, index=False, quotechar='\"', escapechar='\\\\')\n",
    "print(f\"DataFrame saved to {csv_output_path}\")"
   ]
  },
  {
   "cell_type": "code",
   "execution_count": 147,
   "id": "cbf733d0-409a-44e5-a730-eedc06a4f4a3",
   "metadata": {},
   "outputs": [
    {
     "name": "stdout",
     "output_type": "stream",
     "text": [
      "upload: ./cleaned_dataset.csv to s3://sagemaker-us-east-1-672518276407/amazon-reviews-pds-1/tsv/cleaned_dataset.csv\n"
     ]
    }
   ],
   "source": [
    "s3_staging_dir = \"s3://sagemaker-us-east-1-672518276407/amazon-reviews-pds-1/tsv\"\n",
    "!aws s3 cp \"cleaned_dataset.csv\" $s3_staging_dir/"
   ]
  },
  {
   "cell_type": "code",
   "execution_count": 144,
   "id": "bcd668b1-835a-45c5-b344-a606e2222c6c",
   "metadata": {},
   "outputs": [
    {
     "name": "stdout",
     "output_type": "stream",
     "text": [
      "s3://sagemaker-us-east-1-672518276407/amazon-reviews-pds/tsv\n"
     ]
    }
   ],
   "source": [
    "print(s3_private_path_tsv)"
   ]
  },
  {
   "cell_type": "code",
   "execution_count": 158,
   "id": "17346cfd-a15c-4920-93cb-01e4ac22167a",
   "metadata": {},
   "outputs": [
    {
     "name": "stdout",
     "output_type": "stream",
     "text": [
      "CREATE DATABASE IF NOT EXISTS dsoaws_new\n"
     ]
    },
    {
     "name": "stderr",
     "output_type": "stream",
     "text": [
      "/tmp/ipykernel_3285/750785309.py:5: UserWarning: pandas only supports SQLAlchemy connectable (engine/connection) or database string URI or sqlite3 DBAPI2 connection. Other DBAPI2 objects are not tested. Please consider using SQLAlchemy.\n",
      "  pd.read_sql(statement, conn)\n"
     ]
    },
    {
     "data": {
      "text/html": [
       "<div>\n",
       "<style scoped>\n",
       "    .dataframe tbody tr th:only-of-type {\n",
       "        vertical-align: middle;\n",
       "    }\n",
       "\n",
       "    .dataframe tbody tr th {\n",
       "        vertical-align: top;\n",
       "    }\n",
       "\n",
       "    .dataframe thead th {\n",
       "        text-align: right;\n",
       "    }\n",
       "</style>\n",
       "<table border=\"1\" class=\"dataframe\">\n",
       "  <thead>\n",
       "    <tr style=\"text-align: right;\">\n",
       "      <th></th>\n",
       "    </tr>\n",
       "  </thead>\n",
       "  <tbody>\n",
       "  </tbody>\n",
       "</table>\n",
       "</div>"
      ],
      "text/plain": [
       "Empty DataFrame\n",
       "Columns: []\n",
       "Index: []"
      ]
     },
     "execution_count": 158,
     "metadata": {},
     "output_type": "execute_result"
    }
   ],
   "source": [
    "database_name = \"dsoaws_new\"\n",
    "conn = connect(region_name=region, s3_staging_dir=s3_staging_dir)\n",
    "statement = \"CREATE DATABASE IF NOT EXISTS {}\".format(database_name)\n",
    "print(statement)\n",
    "pd.read_sql(statement, conn)"
   ]
  },
  {
   "cell_type": "code",
   "execution_count": 159,
   "id": "18a929b9-8060-4268-8b17-795579b1a31f",
   "metadata": {},
   "outputs": [
    {
     "name": "stderr",
     "output_type": "stream",
     "text": [
      "/tmp/ipykernel_3285/1371328689.py:2: UserWarning: pandas only supports SQLAlchemy connectable (engine/connection) or database string URI or sqlite3 DBAPI2 connection. Other DBAPI2 objects are not tested. Please consider using SQLAlchemy.\n",
      "  df_show = pd.read_sql(statement, conn)\n"
     ]
    },
    {
     "data": {
      "text/html": [
       "<div>\n",
       "<style scoped>\n",
       "    .dataframe tbody tr th:only-of-type {\n",
       "        vertical-align: middle;\n",
       "    }\n",
       "\n",
       "    .dataframe tbody tr th {\n",
       "        vertical-align: top;\n",
       "    }\n",
       "\n",
       "    .dataframe thead th {\n",
       "        text-align: right;\n",
       "    }\n",
       "</style>\n",
       "<table border=\"1\" class=\"dataframe\">\n",
       "  <thead>\n",
       "    <tr style=\"text-align: right;\">\n",
       "      <th></th>\n",
       "      <th>database_name</th>\n",
       "    </tr>\n",
       "  </thead>\n",
       "  <tbody>\n",
       "    <tr>\n",
       "      <th>0</th>\n",
       "      <td>default</td>\n",
       "    </tr>\n",
       "    <tr>\n",
       "      <th>1</th>\n",
       "      <td>dsoaws</td>\n",
       "    </tr>\n",
       "    <tr>\n",
       "      <th>2</th>\n",
       "      <td>dsoaws001</td>\n",
       "    </tr>\n",
       "    <tr>\n",
       "      <th>3</th>\n",
       "      <td>dsoaws2</td>\n",
       "    </tr>\n",
       "    <tr>\n",
       "      <th>4</th>\n",
       "      <td>dsoaws3</td>\n",
       "    </tr>\n",
       "    <tr>\n",
       "      <th>5</th>\n",
       "      <td>dsoaws4</td>\n",
       "    </tr>\n",
       "    <tr>\n",
       "      <th>6</th>\n",
       "      <td>dsoaws_001</td>\n",
       "    </tr>\n",
       "    <tr>\n",
       "      <th>7</th>\n",
       "      <td>dsoaws_new</td>\n",
       "    </tr>\n",
       "    <tr>\n",
       "      <th>8</th>\n",
       "      <td>dsoawsv2</td>\n",
       "    </tr>\n",
       "    <tr>\n",
       "      <th>9</th>\n",
       "      <td>dsoawsv3</td>\n",
       "    </tr>\n",
       "    <tr>\n",
       "      <th>10</th>\n",
       "      <td>dsoawsv4</td>\n",
       "    </tr>\n",
       "    <tr>\n",
       "      <th>11</th>\n",
       "      <td>dsoawsv6</td>\n",
       "    </tr>\n",
       "    <tr>\n",
       "      <th>12</th>\n",
       "      <td>dsoawsv8</td>\n",
       "    </tr>\n",
       "  </tbody>\n",
       "</table>\n",
       "</div>"
      ],
      "text/plain": [
       "   database_name\n",
       "0        default\n",
       "1         dsoaws\n",
       "2      dsoaws001\n",
       "3        dsoaws2\n",
       "4        dsoaws3\n",
       "5        dsoaws4\n",
       "6     dsoaws_001\n",
       "7     dsoaws_new\n",
       "8       dsoawsv2\n",
       "9       dsoawsv3\n",
       "10      dsoawsv4\n",
       "11      dsoawsv6\n",
       "12      dsoawsv8"
      ]
     },
     "execution_count": 159,
     "metadata": {},
     "output_type": "execute_result"
    }
   ],
   "source": [
    "statement = \"SHOW DATABASES\"\n",
    "df_show = pd.read_sql(statement, conn)\n",
    "df_show.head(20)"
   ]
  },
  {
   "cell_type": "code",
   "execution_count": 73,
   "id": "dfde47e2-c2d6-443f-8f87-13c4770fb494",
   "metadata": {},
   "outputs": [
    {
     "name": "stdout",
     "output_type": "stream",
     "text": [
      "   Unnamed: 0                track_id                 artists  \\\n",
      "0           0  5SuOikwiRyPMVoIQDJUgSV             Gen Hoshino   \n",
      "1           1  4qPNDBW1i3p13qLCt0Ki3A            Ben Woodward   \n",
      "2           2  1iJBSr7s7jYXzM8EGcbK5b  Ingrid Michaelson;ZAYN   \n",
      "3           3  6lfxq3CG4xtTiEg7opyCyx            Kina Grannis   \n",
      "4           4  5vjLSffimiIP26QG5WcN2K        Chord Overstreet   \n",
      "\n",
      "                                          album_name  \\\n",
      "0                                             Comedy   \n",
      "1                                   Ghost (Acoustic)   \n",
      "2                                     To Begin Again   \n",
      "3  Crazy Rich Asians (Original Motion Picture Sou...   \n",
      "4                                            Hold On   \n",
      "\n",
      "                   track_name  popularity  duration_ms  explicit  \\\n",
      "0                      Comedy          73       230666     False   \n",
      "1            Ghost - Acoustic          55       149610     False   \n",
      "2              To Begin Again          57       210826     False   \n",
      "3  Can't Help Falling In Love          71       201933     False   \n",
      "4                     Hold On          82       198853     False   \n",
      "\n",
      "   danceability  energy  ...  loudness  mode  speechiness  acousticness  \\\n",
      "0         0.676  0.4610  ...    -6.746     0       0.1430        0.0322   \n",
      "1         0.420  0.1660  ...   -17.235     1       0.0763        0.9240   \n",
      "2         0.438  0.3590  ...    -9.734     1       0.0557        0.2100   \n",
      "3         0.266  0.0596  ...   -18.515     1       0.0363        0.9050   \n",
      "4         0.618  0.4430  ...    -9.681     1       0.0526        0.4690   \n",
      "\n",
      "   instrumentalness  liveness  valence    tempo  time_signature  track_genre  \n",
      "0          0.000001    0.3580    0.715   87.917               4     acoustic  \n",
      "1          0.000006    0.1010    0.267   77.489               4     acoustic  \n",
      "2          0.000000    0.1170    0.120   76.332               4     acoustic  \n",
      "3          0.000071    0.1320    0.143  181.740               3     acoustic  \n",
      "4          0.000000    0.0829    0.167  119.949               4     acoustic  \n",
      "\n",
      "[5 rows x 21 columns]\n"
     ]
    }
   ],
   "source": [
    "import boto3\n",
    "import pandas as pd\n",
    "from io import StringIO\n",
    "\n",
    "# S3 bucket and file path\n",
    "bucket_name = \"sagemaker-us-east-1-672518276407\"\n",
    "file_key = \"amazon-reviews-pds/tsv/dataset.csv\"\n",
    "\n",
    "# Create an S3 client\n",
    "s3 = boto3.client(\"s3\")\n",
    "\n",
    "try:\n",
    "    # Fetch the CSV file from S3\n",
    "    response = s3.get_object(Bucket=bucket_name, Key=file_key)\n",
    "    \n",
    "    # Read the content of the file\n",
    "    content = response[\"Body\"].read().decode(\"utf-8\")\n",
    "    \n",
    "    # Load the content into a DataFrame\n",
    "    data = pd.read_csv(StringIO(content))\n",
    "    \n",
    "    # Display the first few rows\n",
    "    print(data.head())\n",
    "except Exception as e:\n",
    "    print(f\"Error occurred: {e}\")"
   ]
  },
  {
   "cell_type": "code",
   "execution_count": 74,
   "id": "55f299e2-4661-4e32-88fa-cdf195054c68",
   "metadata": {},
   "outputs": [
    {
     "name": "stdout",
     "output_type": "stream",
     "text": [
      "Songs with popularity ≥ 99:\n",
      "                    artists                             track_name  popularity\n",
      "20001  Sam Smith;Kim Petras              Unholy (feat. Kim Petras)         100\n",
      "51664      Bizarrap;Quevedo  Quevedo: Bzrp Music Sessions, Vol. 52          99\n",
      "81051  Sam Smith;Kim Petras              Unholy (feat. Kim Petras)         100\n"
     ]
    }
   ],
   "source": [
    "# Filter songs with popularity greater than or equal to 99\n",
    "df_high_popularity = data[data['popularity'] >= 99]\n",
    "df_high_popularity = df_high_popularity[['artists', 'track_name', 'popularity']]\n",
    "print(\"Songs with popularity ≥ 99:\")\n",
    "print(df_high_popularity)"
   ]
  },
  {
   "cell_type": "code",
   "execution_count": 75,
   "id": "ea2894d0-bd8c-4b79-a524-86f3eb8fd691",
   "metadata": {},
   "outputs": [
    {
     "name": "stdout",
     "output_type": "stream",
     "text": [
      "Artists with an average popularity of 92:\n",
      "                 artists  popularity\n",
      "11491       Harry Styles        92.0\n",
      "22845  Rema;Selena Gomez        92.0\n"
     ]
    }
   ],
   "source": [
    "# Group by artist and calculate the average popularity\n",
    "df_avg_popularity = data.groupby('artists')['popularity'].mean().reset_index()\n",
    "\n",
    "# Filter artists with an average popularity of 92\n",
    "df_avg_popularity_92 = df_avg_popularity[df_avg_popularity['popularity'] == 92]\n",
    "print(\"Artists with an average popularity of 92:\")\n",
    "print(df_avg_popularity_92)\n"
   ]
  },
  {
   "cell_type": "code",
   "execution_count": 76,
   "id": "40342004-9d3e-4ae2-9d3e-8ccc27a64850",
   "metadata": {},
   "outputs": [
    {
     "name": "stdout",
     "output_type": "stream",
     "text": [
      "Top 10 genres with the highest average energy:\n",
      "      track_genre    energy\n",
      "22    death-metal  0.931470\n",
      "42      grindcore  0.924201\n",
      "72      metalcore  0.914485\n",
      "46          happy  0.910971\n",
      "49      hardstyle  0.901246\n",
      "27  drum-and-bass  0.876635\n",
      "6     black-metal  0.874897\n",
      "50    heavy-metal  0.874003\n",
      "78          party  0.871237\n",
      "61         j-idol  0.868677\n"
     ]
    }
   ],
   "source": [
    "# Group by genre and calculate the average energy\n",
    "df_avg_energy = data.groupby('track_genre')['energy'].mean().reset_index()\n",
    "\n",
    "# Get the top 10 genres by average energy\n",
    "df_top10_genres = df_avg_energy.sort_values(by='energy', ascending=False).head(10)\n",
    "print(\"Top 10 genres with the highest average energy:\")\n",
    "print(df_top10_genres)"
   ]
  },
  {
   "cell_type": "code",
   "execution_count": 192,
   "id": "b63effc7-323b-475e-93e4-8feecfdf0ef6",
   "metadata": {},
   "outputs": [
    {
     "name": "stdout",
     "output_type": "stream",
     "text": [
      "Number of tracks featuring Bad Bunny: 416\n"
     ]
    }
   ],
   "source": [
    "# Filter tracks by the artist 'Bad Bunny'\n",
    "bad_bunny_count = data[data['artists'].str.contains('Bad Bunny', na=False)].shape[0]\n",
    "print(f\"Number of tracks featuring Bad Bunny: {bad_bunny_count}\")"
   ]
  },
  {
   "cell_type": "code",
   "execution_count": 78,
   "id": "c9145528-d2db-45a7-bbe1-ebfe0f52245f",
   "metadata": {},
   "outputs": [
    {
     "name": "stdout",
     "output_type": "stream",
     "text": [
      "Top 10 genres by their most popular track:\n",
      "   track_genre  popularity\n",
      "80         pop         100\n",
      "20       dance         100\n",
      "51     hip-hop          99\n",
      "68      latino          98\n",
      "89   reggaeton          98\n",
      "30         edm          98\n",
      "67       latin          98\n",
      "88      reggae          98\n",
      "79       piano          96\n",
      "90        rock          96\n"
     ]
    }
   ],
   "source": [
    "# Group by genre and find the maximum popularity within each genre\n",
    "df_genre_popularity = data.groupby('track_genre')['popularity'].max().reset_index()\n",
    "\n",
    "# Sort by popularity and get the top 10 genres\n",
    "df_top10_popular_genres = df_genre_popularity.sort_values(by='popularity', ascending=False).head(10)\n",
    "print(\"Top 10 genres by their most popular track:\")\n",
    "print(df_top10_popular_genres)"
   ]
  },
  {
   "cell_type": "code",
   "execution_count": 79,
   "id": "63249fe4-4845-4635-9335-2853d0ac450d",
   "metadata": {},
   "outputs": [
    {
     "name": "stderr",
     "output_type": "stream",
     "text": [
      "/tmp/ipykernel_3285/2205842015.py:3: UserWarning: pandas only supports SQLAlchemy connectable (engine/connection) or database string URI or sqlite3 DBAPI2 connection. Other DBAPI2 objects are not tested. Please consider using SQLAlchemy.\n",
      "  df_show = pd.read_sql(statement, conn)\n"
     ]
    },
    {
     "data": {
      "text/html": [
       "<div>\n",
       "<style scoped>\n",
       "    .dataframe tbody tr th:only-of-type {\n",
       "        vertical-align: middle;\n",
       "    }\n",
       "\n",
       "    .dataframe tbody tr th {\n",
       "        vertical-align: top;\n",
       "    }\n",
       "\n",
       "    .dataframe thead th {\n",
       "        text-align: right;\n",
       "    }\n",
       "</style>\n",
       "<table border=\"1\" class=\"dataframe\">\n",
       "  <thead>\n",
       "    <tr style=\"text-align: right;\">\n",
       "      <th></th>\n",
       "      <th>tab_name</th>\n",
       "    </tr>\n",
       "  </thead>\n",
       "  <tbody>\n",
       "    <tr>\n",
       "      <th>0</th>\n",
       "      <td>amazon_reviews_tsv</td>\n",
       "    </tr>\n",
       "  </tbody>\n",
       "</table>\n",
       "</div>"
      ],
      "text/plain": [
       "             tab_name\n",
       "0  amazon_reviews_tsv"
      ]
     },
     "execution_count": 79,
     "metadata": {},
     "output_type": "execute_result"
    }
   ],
   "source": [
    "statement = \"SHOW TABLES in {}\".format('dsoaws')\n",
    "\n",
    "df_show = pd.read_sql(statement, conn)\n",
    "df_show.head(5)"
   ]
  },
  {
   "cell_type": "code",
   "execution_count": 80,
   "id": "7eb8bd26",
   "metadata": {},
   "outputs": [
    {
     "name": "stdout",
     "output_type": "stream",
     "text": [
      "Setup completed.\n"
     ]
    }
   ],
   "source": [
    "# SageMaker session setup\n",
    "sess = sagemaker.Session()\n",
    "bucket = sess.default_bucket()\n",
    "role = sagemaker.get_execution_role()\n",
    "region = boto3.Session().region_name\n",
    "\n",
    "# Athena connection setup\n",
    "database_name = \"dsoaws\"\n",
    "table_name_tsv = \"amazon_reviews_tsv\"\n",
    "\n",
    "conn = connect(region_name=region, s3_staging_dir=s3_staging_dir)\n",
    "print(\"Setup completed.\")\n"
   ]
  },
  {
   "cell_type": "code",
   "execution_count": 81,
   "id": "a1c575d0-a0b3-44bf-96a7-79b54b5a42aa",
   "metadata": {},
   "outputs": [],
   "source": [
    "# Athena connection setup\n",
    "conn = connect(region_name=region, s3_staging_dir=s3_staging_dir)\n",
    "\n",
    "# Improved execute_query function\n",
    "def execute_query(query, description=\"Query Result\"):\n",
    "    \"\"\"\n",
    "    Executes a Pandas query or calculation and prints the result.\n",
    "\n",
    "    Parameters:\n",
    "        query (pd.DataFrame or int): The result of the query.\n",
    "        description (str): A brief description of the query result.\n",
    "    \"\"\"\n",
    "    try:\n",
    "        print(f\"\\n{description}\")\n",
    "        print(\"=\" * len(description))\n",
    "\n",
    "        # Check if the query returned a DataFrame\n",
    "        if isinstance(query, pd.DataFrame):\n",
    "            if not query.empty:\n",
    "                display(query.head(100))  # Display the first 100 rows\n",
    "                print(f\"Total Records: {len(query)}\")\n",
    "            else:\n",
    "                print(\"No matching records found.\")\n",
    "        # Check if the query returned a single value (like a count)\n",
    "        elif isinstance(query, int):\n",
    "            print(f\"Result: {query}\")\n",
    "        else:\n",
    "            print(\"Unexpected query result type.\")\n",
    "    except Exception as e:\n",
    "        print(f\"Error executing query: {e}\")\n"
   ]
  },
  {
   "cell_type": "markdown",
   "id": "6fee940d",
   "metadata": {},
   "source": [
    "## List artist, track_name, and popularity for songs with popularity ≥ 99"
   ]
  },
  {
   "cell_type": "code",
   "execution_count": 82,
   "id": "95c2196c",
   "metadata": {},
   "outputs": [
    {
     "name": "stdout",
     "output_type": "stream",
     "text": [
      "\n",
      "Songs with Popularity ≥ 99 (SQL-like)\n",
      "=====================================\n"
     ]
    },
    {
     "data": {
      "text/html": [
       "<div>\n",
       "<style scoped>\n",
       "    .dataframe tbody tr th:only-of-type {\n",
       "        vertical-align: middle;\n",
       "    }\n",
       "\n",
       "    .dataframe tbody tr th {\n",
       "        vertical-align: top;\n",
       "    }\n",
       "\n",
       "    .dataframe thead th {\n",
       "        text-align: right;\n",
       "    }\n",
       "</style>\n",
       "<table border=\"1\" class=\"dataframe\">\n",
       "  <thead>\n",
       "    <tr style=\"text-align: right;\">\n",
       "      <th></th>\n",
       "      <th>artists</th>\n",
       "      <th>track_name</th>\n",
       "      <th>popularity</th>\n",
       "    </tr>\n",
       "  </thead>\n",
       "  <tbody>\n",
       "    <tr>\n",
       "      <th>0</th>\n",
       "      <td>Sam Smith;Kim Petras</td>\n",
       "      <td>Unholy (feat. Kim Petras)</td>\n",
       "      <td>100</td>\n",
       "    </tr>\n",
       "    <tr>\n",
       "      <th>1</th>\n",
       "      <td>Bizarrap;Quevedo</td>\n",
       "      <td>Quevedo: Bzrp Music Sessions, Vol. 52</td>\n",
       "      <td>99</td>\n",
       "    </tr>\n",
       "    <tr>\n",
       "      <th>2</th>\n",
       "      <td>Sam Smith;Kim Petras</td>\n",
       "      <td>Unholy (feat. Kim Petras)</td>\n",
       "      <td>100</td>\n",
       "    </tr>\n",
       "  </tbody>\n",
       "</table>\n",
       "</div>"
      ],
      "text/plain": [
       "                artists                             track_name  popularity\n",
       "0  Sam Smith;Kim Petras              Unholy (feat. Kim Petras)         100\n",
       "1      Bizarrap;Quevedo  Quevedo: Bzrp Music Sessions, Vol. 52          99\n",
       "2  Sam Smith;Kim Petras              Unholy (feat. Kim Petras)         100"
      ]
     },
     "metadata": {},
     "output_type": "display_data"
    },
    {
     "name": "stdout",
     "output_type": "stream",
     "text": [
      "Total Records: 3\n"
     ]
    }
   ],
   "source": [
    "import pandasql as psql\n",
    "\n",
    "# SQL-like query on the DataFrame\n",
    "query = \"\"\"\n",
    "SELECT artists, track_name, popularity\n",
    "FROM data\n",
    "WHERE popularity >= 99\n",
    "\"\"\"\n",
    "result = psql.sqldf(query, locals())\n",
    "execute_query(result, \"Songs with Popularity ≥ 99 (SQL-like)\")\n"
   ]
  },
  {
   "cell_type": "markdown",
   "id": "bed75722",
   "metadata": {},
   "source": [
    "## List artists with an average popularity of 92"
   ]
  },
  {
   "cell_type": "code",
   "execution_count": 83,
   "id": "e245181b",
   "metadata": {},
   "outputs": [
    {
     "name": "stdout",
     "output_type": "stream",
     "text": [
      "\n",
      "List artists with an average popularity of 92\n",
      "=============================================\n"
     ]
    },
    {
     "data": {
      "text/html": [
       "<div>\n",
       "<style scoped>\n",
       "    .dataframe tbody tr th:only-of-type {\n",
       "        vertical-align: middle;\n",
       "    }\n",
       "\n",
       "    .dataframe tbody tr th {\n",
       "        vertical-align: top;\n",
       "    }\n",
       "\n",
       "    .dataframe thead th {\n",
       "        text-align: right;\n",
       "    }\n",
       "</style>\n",
       "<table border=\"1\" class=\"dataframe\">\n",
       "  <thead>\n",
       "    <tr style=\"text-align: right;\">\n",
       "      <th></th>\n",
       "      <th>artists</th>\n",
       "      <th>avg_popularity</th>\n",
       "    </tr>\n",
       "  </thead>\n",
       "  <tbody>\n",
       "    <tr>\n",
       "      <th>0</th>\n",
       "      <td>Harry Styles</td>\n",
       "      <td>92.0</td>\n",
       "    </tr>\n",
       "    <tr>\n",
       "      <th>1</th>\n",
       "      <td>Rema;Selena Gomez</td>\n",
       "      <td>92.0</td>\n",
       "    </tr>\n",
       "  </tbody>\n",
       "</table>\n",
       "</div>"
      ],
      "text/plain": [
       "             artists  avg_popularity\n",
       "0       Harry Styles            92.0\n",
       "1  Rema;Selena Gomez            92.0"
      ]
     },
     "metadata": {},
     "output_type": "display_data"
    },
    {
     "name": "stdout",
     "output_type": "stream",
     "text": [
      "Total Records: 2\n"
     ]
    }
   ],
   "source": [
    "\n",
    "query = \"\"\"\n",
    "SELECT artists, AVG(popularity) AS avg_popularity\n",
    "FROM data\n",
    "GROUP BY artists\n",
    "HAVING AVG(popularity) = 92\n",
    "\"\"\"\n",
    "result = psql.sqldf(query, locals())\n",
    "execute_query(result, \"List artists with an average popularity of 92\")\n"
   ]
  },
  {
   "cell_type": "markdown",
   "id": "9eb2e08e",
   "metadata": {},
   "source": [
    "## List the Top 10 genres with the highest average energy"
   ]
  },
  {
   "cell_type": "code",
   "execution_count": 84,
   "id": "b339d074",
   "metadata": {},
   "outputs": [
    {
     "name": "stdout",
     "output_type": "stream",
     "text": [
      "\n",
      "List the Top 10 genres with the highest average energy\n",
      "======================================================\n"
     ]
    },
    {
     "data": {
      "text/html": [
       "<div>\n",
       "<style scoped>\n",
       "    .dataframe tbody tr th:only-of-type {\n",
       "        vertical-align: middle;\n",
       "    }\n",
       "\n",
       "    .dataframe tbody tr th {\n",
       "        vertical-align: top;\n",
       "    }\n",
       "\n",
       "    .dataframe thead th {\n",
       "        text-align: right;\n",
       "    }\n",
       "</style>\n",
       "<table border=\"1\" class=\"dataframe\">\n",
       "  <thead>\n",
       "    <tr style=\"text-align: right;\">\n",
       "      <th></th>\n",
       "      <th>track_genre</th>\n",
       "      <th>avg_energy</th>\n",
       "    </tr>\n",
       "  </thead>\n",
       "  <tbody>\n",
       "    <tr>\n",
       "      <th>0</th>\n",
       "      <td>death-metal</td>\n",
       "      <td>0.931470</td>\n",
       "    </tr>\n",
       "    <tr>\n",
       "      <th>1</th>\n",
       "      <td>grindcore</td>\n",
       "      <td>0.924201</td>\n",
       "    </tr>\n",
       "    <tr>\n",
       "      <th>2</th>\n",
       "      <td>metalcore</td>\n",
       "      <td>0.914485</td>\n",
       "    </tr>\n",
       "    <tr>\n",
       "      <th>3</th>\n",
       "      <td>happy</td>\n",
       "      <td>0.910971</td>\n",
       "    </tr>\n",
       "    <tr>\n",
       "      <th>4</th>\n",
       "      <td>hardstyle</td>\n",
       "      <td>0.901246</td>\n",
       "    </tr>\n",
       "    <tr>\n",
       "      <th>5</th>\n",
       "      <td>drum-and-bass</td>\n",
       "      <td>0.876635</td>\n",
       "    </tr>\n",
       "    <tr>\n",
       "      <th>6</th>\n",
       "      <td>black-metal</td>\n",
       "      <td>0.874897</td>\n",
       "    </tr>\n",
       "    <tr>\n",
       "      <th>7</th>\n",
       "      <td>heavy-metal</td>\n",
       "      <td>0.874003</td>\n",
       "    </tr>\n",
       "    <tr>\n",
       "      <th>8</th>\n",
       "      <td>party</td>\n",
       "      <td>0.871237</td>\n",
       "    </tr>\n",
       "    <tr>\n",
       "      <th>9</th>\n",
       "      <td>j-idol</td>\n",
       "      <td>0.868677</td>\n",
       "    </tr>\n",
       "  </tbody>\n",
       "</table>\n",
       "</div>"
      ],
      "text/plain": [
       "     track_genre  avg_energy\n",
       "0    death-metal    0.931470\n",
       "1      grindcore    0.924201\n",
       "2      metalcore    0.914485\n",
       "3          happy    0.910971\n",
       "4      hardstyle    0.901246\n",
       "5  drum-and-bass    0.876635\n",
       "6    black-metal    0.874897\n",
       "7    heavy-metal    0.874003\n",
       "8          party    0.871237\n",
       "9         j-idol    0.868677"
      ]
     },
     "metadata": {},
     "output_type": "display_data"
    },
    {
     "name": "stdout",
     "output_type": "stream",
     "text": [
      "Total Records: 10\n"
     ]
    }
   ],
   "source": [
    "\n",
    "query = \"\"\"\n",
    "SELECT track_genre, AVG(energy) AS avg_energy\n",
    "FROM data\n",
    "GROUP BY track_genre\n",
    "ORDER BY avg_energy DESC\n",
    "LIMIT 10\n",
    "\"\"\"\n",
    "result = psql.sqldf(query, locals())\n",
    "execute_query(result, \"List the Top 10 genres with the highest average energy\")\n"
   ]
  },
  {
   "cell_type": "markdown",
   "id": "81787498",
   "metadata": {},
   "source": [
    "## How many tracks is Bad Bunny on?"
   ]
  },
  {
   "cell_type": "code",
   "execution_count": 193,
   "id": "0214df0c",
   "metadata": {},
   "outputs": [
    {
     "name": "stdout",
     "output_type": "stream",
     "text": [
      "\n",
      "How many tracks is Bad Bunny on?\n",
      "================================\n"
     ]
    },
    {
     "data": {
      "text/html": [
       "<div>\n",
       "<style scoped>\n",
       "    .dataframe tbody tr th:only-of-type {\n",
       "        vertical-align: middle;\n",
       "    }\n",
       "\n",
       "    .dataframe tbody tr th {\n",
       "        vertical-align: top;\n",
       "    }\n",
       "\n",
       "    .dataframe thead th {\n",
       "        text-align: right;\n",
       "    }\n",
       "</style>\n",
       "<table border=\"1\" class=\"dataframe\">\n",
       "  <thead>\n",
       "    <tr style=\"text-align: right;\">\n",
       "      <th></th>\n",
       "      <th>COUNT(*)</th>\n",
       "    </tr>\n",
       "  </thead>\n",
       "  <tbody>\n",
       "    <tr>\n",
       "      <th>0</th>\n",
       "      <td>416</td>\n",
       "    </tr>\n",
       "  </tbody>\n",
       "</table>\n",
       "</div>"
      ],
      "text/plain": [
       "   COUNT(*)\n",
       "0       416"
      ]
     },
     "metadata": {},
     "output_type": "display_data"
    },
    {
     "name": "stdout",
     "output_type": "stream",
     "text": [
      "Total Records: 1\n"
     ]
    }
   ],
   "source": [
    "\n",
    "query = \"\"\"\n",
    "SELECT COUNT(*)\n",
    "FROM data\n",
    "WHERE artists like '%Bad Bunny%'\n",
    "\"\"\"\n",
    "result = psql.sqldf(query, locals())\n",
    "execute_query(result, \"How many tracks is Bad Bunny on?\")\n"
   ]
  },
  {
   "cell_type": "markdown",
   "id": "36d256d0",
   "metadata": {},
   "source": [
    "## Show the top 10 genres in terms of popularity, sorted by their most popular track"
   ]
  },
  {
   "cell_type": "code",
   "execution_count": 86,
   "id": "d90e17f4",
   "metadata": {},
   "outputs": [
    {
     "name": "stdout",
     "output_type": "stream",
     "text": [
      "\n",
      "Show the top 10 genres in terms of popularity, sorted by their most popular track\n",
      "=================================================================================\n"
     ]
    },
    {
     "data": {
      "text/html": [
       "<div>\n",
       "<style scoped>\n",
       "    .dataframe tbody tr th:only-of-type {\n",
       "        vertical-align: middle;\n",
       "    }\n",
       "\n",
       "    .dataframe tbody tr th {\n",
       "        vertical-align: top;\n",
       "    }\n",
       "\n",
       "    .dataframe thead th {\n",
       "        text-align: right;\n",
       "    }\n",
       "</style>\n",
       "<table border=\"1\" class=\"dataframe\">\n",
       "  <thead>\n",
       "    <tr style=\"text-align: right;\">\n",
       "      <th></th>\n",
       "      <th>track_genre</th>\n",
       "      <th>max_popularity</th>\n",
       "    </tr>\n",
       "  </thead>\n",
       "  <tbody>\n",
       "    <tr>\n",
       "      <th>0</th>\n",
       "      <td>pop</td>\n",
       "      <td>100</td>\n",
       "    </tr>\n",
       "    <tr>\n",
       "      <th>1</th>\n",
       "      <td>dance</td>\n",
       "      <td>100</td>\n",
       "    </tr>\n",
       "    <tr>\n",
       "      <th>2</th>\n",
       "      <td>hip-hop</td>\n",
       "      <td>99</td>\n",
       "    </tr>\n",
       "    <tr>\n",
       "      <th>3</th>\n",
       "      <td>reggaeton</td>\n",
       "      <td>98</td>\n",
       "    </tr>\n",
       "    <tr>\n",
       "      <th>4</th>\n",
       "      <td>reggae</td>\n",
       "      <td>98</td>\n",
       "    </tr>\n",
       "    <tr>\n",
       "      <th>5</th>\n",
       "      <td>latino</td>\n",
       "      <td>98</td>\n",
       "    </tr>\n",
       "    <tr>\n",
       "      <th>6</th>\n",
       "      <td>latin</td>\n",
       "      <td>98</td>\n",
       "    </tr>\n",
       "    <tr>\n",
       "      <th>7</th>\n",
       "      <td>edm</td>\n",
       "      <td>98</td>\n",
       "    </tr>\n",
       "    <tr>\n",
       "      <th>8</th>\n",
       "      <td>rock</td>\n",
       "      <td>96</td>\n",
       "    </tr>\n",
       "    <tr>\n",
       "      <th>9</th>\n",
       "      <td>piano</td>\n",
       "      <td>96</td>\n",
       "    </tr>\n",
       "  </tbody>\n",
       "</table>\n",
       "</div>"
      ],
      "text/plain": [
       "  track_genre  max_popularity\n",
       "0         pop             100\n",
       "1       dance             100\n",
       "2     hip-hop              99\n",
       "3   reggaeton              98\n",
       "4      reggae              98\n",
       "5      latino              98\n",
       "6       latin              98\n",
       "7         edm              98\n",
       "8        rock              96\n",
       "9       piano              96"
      ]
     },
     "metadata": {},
     "output_type": "display_data"
    },
    {
     "name": "stdout",
     "output_type": "stream",
     "text": [
      "Total Records: 10\n"
     ]
    }
   ],
   "source": [
    "\n",
    "query = \"\"\"\n",
    "SELECT track_genre, MAX(popularity) AS max_popularity\n",
    "FROM data\n",
    "GROUP BY track_genre\n",
    "ORDER BY max_popularity DESC\n",
    "LIMIT 10\n",
    "\"\"\"\n",
    "result = psql.sqldf(query, locals())\n",
    "execute_query(result, \"Show the top 10 genres in terms of popularity, sorted by their most popular track\")"
   ]
  },
  {
   "cell_type": "code",
   "execution_count": 87,
   "id": "abfb697a-aed7-4d53-a9d0-26437ac2b6ec",
   "metadata": {},
   "outputs": [],
   "source": [
    "sess = sagemaker.Session()\n",
    "bucket = sess.default_bucket()\n",
    "role = sagemaker.get_execution_role()\n",
    "region = boto3.Session().region_name\n",
    "\n",
    "sm = boto3.Session().client(service_name=\"sagemaker\", region_name=region)"
   ]
  },
  {
   "cell_type": "code",
   "execution_count": 178,
   "id": "1eceb3ca-06a3-49cc-92d8-de2c12a60e23",
   "metadata": {},
   "outputs": [
    {
     "name": "stdout",
     "output_type": "stream",
     "text": [
      "Database 'dsoaws_parquet' created successfully or already exists.\n"
     ]
    }
   ],
   "source": [
    "import awswrangler as wr\n",
    "\n",
    "# Database name\n",
    "database_name = \"dsoaws_parquet\"\n",
    "\n",
    "# Create the Glue database if it doesn't exist\n",
    "try:\n",
    "    wr.catalog.create_database(name=database_name)\n",
    "    print(f\"Database '{database_name}' created successfully or already exists.\")\n",
    "except Exception as e:\n",
    "    print(f\"Error creating database: {e}\")\n"
   ]
  },
  {
   "cell_type": "code",
   "execution_count": 179,
   "id": "f12c4f89-c8d7-4558-b62c-040e15ce8261",
   "metadata": {},
   "outputs": [
    {
     "name": "stdout",
     "output_type": "stream",
     "text": [
      "Data uploaded successfully to s3://sagemaker-us-east-1-672518276407/amazon-reviews-pds-1/parquet/cleaned_dataset.parquet as Parquet.\n"
     ]
    }
   ],
   "source": [
    "import pandas as pd\n",
    "import awswrangler as wr\n",
    "\n",
    "# Load the DataFrame from the CSV file\n",
    "csv_path = \"./cleaned_dataset.csv\"\n",
    "df = pd.read_csv(csv_path)\n",
    "\n",
    "# S3 bucket and file path for Parquet\n",
    "bucket_name = \"sagemaker-us-east-1-672518276407\"\n",
    "parquet_path = f\"s3://{bucket_name}/amazon-reviews-pds-1/parquet/cleaned_dataset.parquet\"\n",
    "\n",
    "# Save DataFrame as Parquet to S3\n",
    "try:\n",
    "    wr.s3.to_parquet(\n",
    "        df=df,\n",
    "        path=parquet_path,\n",
    "        dataset=True,\n",
    "        mode=\"overwrite\",\n",
    "        database=\"dsoaws_parquet\",\n",
    "        table=\"amazon_reviews_parquet\"\n",
    "    )\n",
    "    print(f\"Data uploaded successfully to {parquet_path} as Parquet.\")\n",
    "except Exception as e:\n",
    "    print(f\"Error uploading DataFrame to S3: {e}\")\n"
   ]
  },
  {
   "cell_type": "code",
   "execution_count": 182,
   "id": "37372c8a-0862-43b4-9a50-c54e15f9b5cc",
   "metadata": {},
   "outputs": [
    {
     "name": "stdout",
     "output_type": "stream",
     "text": [
      "Tables in the database:\n",
      "- amazon_reviews_parquet\n"
     ]
    }
   ],
   "source": [
    "# List all tables in the specified database\n",
    "import awswrangler as wr\n",
    "\n",
    "# Database name\n",
    "database_name = \"dsoaws_parquet\"\n",
    "\n",
    "# List all tables in the specified database\n",
    "try:\n",
    "    tables = list(wr.catalog.get_tables(database=database_name))\n",
    "    print(\"Tables in the database:\")\n",
    "    for table in tables:\n",
    "        print(f\"- {table['Name']}\")\n",
    "except Exception as e:\n",
    "    print(f\"Error retrieving tables: {e}\")"
   ]
  },
  {
   "cell_type": "code",
   "execution_count": 183,
   "id": "f77829c5-ddf8-463d-a78a-a991efc1ad36",
   "metadata": {},
   "outputs": [
    {
     "name": "stdout",
     "output_type": "stream",
     "text": [
      "Sample data from the Athena table:\n",
      "   unnamed_0                track_id                 artists  \\\n",
      "0          0  5SuOikwiRyPMVoIQDJUgSV             Gen Hoshino   \n",
      "1          1  4qPNDBW1i3p13qLCt0Ki3A            Ben Woodward   \n",
      "2          2  1iJBSr7s7jYXzM8EGcbK5b  Ingrid Michaelson;ZAYN   \n",
      "3          3  6lfxq3CG4xtTiEg7opyCyx            Kina Grannis   \n",
      "4          4  5vjLSffimiIP26QG5WcN2K        Chord Overstreet   \n",
      "\n",
      "                                          album_name  \\\n",
      "0                                             Comedy   \n",
      "1                                   Ghost (Acoustic)   \n",
      "2                                     To Begin Again   \n",
      "3  Crazy Rich Asians (Original Motion Picture Sou...   \n",
      "4                                            Hold On   \n",
      "\n",
      "                   track_name  popularity  duration_ms  explicit  \\\n",
      "0                      Comedy          73       230666     False   \n",
      "1            Ghost - Acoustic          55       149610     False   \n",
      "2              To Begin Again          57       210826     False   \n",
      "3  Can't Help Falling In Love          71       201933     False   \n",
      "4                     Hold On          82       198853     False   \n",
      "\n",
      "   danceability  energy  ...  loudness  mode  speechiness  acousticness  \\\n",
      "0         0.676  0.4610  ...    -6.746     0       0.1430        0.0322   \n",
      "1         0.420  0.1660  ...   -17.235     1       0.0763        0.9240   \n",
      "2         0.438  0.3590  ...    -9.734     1       0.0557        0.2100   \n",
      "3         0.266  0.0596  ...   -18.515     1       0.0363        0.9050   \n",
      "4         0.618  0.4430  ...    -9.681     1       0.0526        0.4690   \n",
      "\n",
      "   instrumentalness  liveness  valence    tempo  time_signature  track_genre  \n",
      "0          0.000001    0.3580    0.715   87.917               4     acoustic  \n",
      "1          0.000006    0.1010    0.267   77.489               4     acoustic  \n",
      "2          0.000000    0.1170    0.120   76.332               4     acoustic  \n",
      "3          0.000071    0.1320    0.143  181.740               3     acoustic  \n",
      "4          0.000000    0.0829    0.167  119.949               4     acoustic  \n",
      "\n",
      "[5 rows x 21 columns]\n"
     ]
    }
   ],
   "source": [
    "# Query the table to check if the data is loaded\n",
    "try:\n",
    "    query = f\"SELECT * FROM {database_name}.amazon_reviews_parquet LIMIT 5\"\n",
    "    df_sample = wr.athena.read_sql_query(query, database=database_name)\n",
    "    print(\"Sample data from the Athena table:\")\n",
    "    print(df_sample)\n",
    "except Exception as e:\n",
    "    print(f\"Error querying table: {e}\")"
   ]
  },
  {
   "cell_type": "markdown",
   "id": "67915852-cafc-4ee8-9db0-8368ee74e19e",
   "metadata": {},
   "source": [
    "## List artist, track_name, and popularity for songs that have a popularity greater than or equal to 99"
   ]
  },
  {
   "cell_type": "code",
   "execution_count": 185,
   "id": "50d2faae-bd06-45b6-887e-2db30d5edd52",
   "metadata": {},
   "outputs": [
    {
     "name": "stdout",
     "output_type": "stream",
     "text": [
      "Songs with popularity >= 99:\n",
      "                artists                             track_name  popularity\n",
      "0  Sam Smith;Kim Petras              Unholy (feat. Kim Petras)         100\n",
      "1      Bizarrap;Quevedo  Quevedo: Bzrp Music Sessions, Vol. 52          99\n",
      "2  Sam Smith;Kim Petras              Unholy (feat. Kim Petras)         100\n"
     ]
    }
   ],
   "source": [
    "query1 = \"\"\"\n",
    "SELECT artists, track_name, popularity\n",
    "FROM dsoaws_parquet.amazon_reviews_parquet\n",
    "WHERE popularity >= 99\n",
    "\"\"\"\n",
    "df1 = wr.athena.read_sql_query(query1, database=\"dsoaws_parquet\")\n",
    "print(\"Songs with popularity >= 99:\")\n",
    "print(df1)"
   ]
  },
  {
   "cell_type": "markdown",
   "id": "a746886e-bcf8-4d30-80d0-b2a69e5b108c",
   "metadata": {},
   "source": [
    "## List artists with an average popularity of 92"
   ]
  },
  {
   "cell_type": "code",
   "execution_count": 186,
   "id": "8d451815-b569-493b-b973-7b1c5d5957dd",
   "metadata": {},
   "outputs": [
    {
     "name": "stdout",
     "output_type": "stream",
     "text": [
      "Artists with an average popularity of 92:\n",
      "             artists  avg_popularity\n",
      "0  Rema;Selena Gomez            92.0\n",
      "1       Harry Styles            92.0\n"
     ]
    }
   ],
   "source": [
    "query2 = \"\"\"\n",
    "SELECT artists, AVG(popularity) AS avg_popularity\n",
    "FROM dsoaws_parquet.amazon_reviews_parquet\n",
    "GROUP BY artists\n",
    "HAVING AVG(popularity) = 92\n",
    "\"\"\"\n",
    "df2 = wr.athena.read_sql_query(query2, database=\"dsoaws_parquet\")\n",
    "print(\"Artists with an average popularity of 92:\")\n",
    "print(df2)"
   ]
  },
  {
   "cell_type": "markdown",
   "id": "7c8b42e0-0fe3-41cc-a222-6b620cd6aa82",
   "metadata": {},
   "source": [
    "## List the Top 10 genres with the highest average energy"
   ]
  },
  {
   "cell_type": "code",
   "execution_count": 187,
   "id": "2c3f8818-4f19-459d-897f-8ef1848eb358",
   "metadata": {},
   "outputs": [
    {
     "name": "stdout",
     "output_type": "stream",
     "text": [
      "Top 10 genres with highest average energy:\n",
      "     track_genre  avg_energy\n",
      "0    death-metal    0.931470\n",
      "1      grindcore    0.924201\n",
      "2      metalcore    0.914485\n",
      "3          happy    0.910971\n",
      "4      hardstyle    0.901246\n",
      "5  drum-and-bass    0.876635\n",
      "6    black-metal    0.874897\n",
      "7    heavy-metal    0.874003\n",
      "8          party    0.871237\n",
      "9         j-idol    0.868677\n"
     ]
    }
   ],
   "source": [
    "query3 = \"\"\"\n",
    "SELECT track_genre, AVG(energy) AS avg_energy\n",
    "FROM dsoaws_parquet.amazon_reviews_parquet\n",
    "GROUP BY track_genre\n",
    "ORDER BY avg_energy DESC\n",
    "LIMIT 10\n",
    "\"\"\"\n",
    "df3 = wr.athena.read_sql_query(query3, database=\"dsoaws_parquet\")\n",
    "print(\"Top 10 genres with highest average energy:\")\n",
    "print(df3)"
   ]
  },
  {
   "cell_type": "markdown",
   "id": "55daafe9-8fbf-4e4e-b2ff-843ad43c6890",
   "metadata": {},
   "source": [
    "## How many tracks is Bad Bunny on?"
   ]
  },
  {
   "cell_type": "code",
   "execution_count": 194,
   "id": "7abd44dd-ecef-4da7-8ab6-6596ef57f97d",
   "metadata": {},
   "outputs": [
    {
     "name": "stdout",
     "output_type": "stream",
     "text": [
      "Number of tracks featuring Bad Bunny:\n",
      "   track_count\n",
      "0          416\n"
     ]
    }
   ],
   "source": [
    "query4 = \"\"\"\n",
    "SELECT COUNT(*) AS track_count\n",
    "FROM dsoaws_parquet.amazon_reviews_parquet\n",
    "WHERE artists LIKE '%Bad Bunny%'\n",
    "\"\"\"\n",
    "df4 = wr.athena.read_sql_query(query4, database=\"dsoaws_parquet\")\n",
    "print(\"Number of tracks featuring Bad Bunny:\")\n",
    "print(df4)"
   ]
  },
  {
   "cell_type": "markdown",
   "id": "c963f017-657b-4a85-98e1-2722378114a4",
   "metadata": {},
   "source": [
    "## Show the top 10 genres in terms of popularity, sorted by their most popular track"
   ]
  },
  {
   "cell_type": "code",
   "execution_count": 189,
   "id": "eb859fb4-63ec-4d96-8389-b2505bb87d01",
   "metadata": {},
   "outputs": [
    {
     "name": "stdout",
     "output_type": "stream",
     "text": [
      "Top 10 genres by most popular track:\n",
      "  track_genre  max_popularity\n",
      "0         pop             100\n",
      "1       dance             100\n",
      "2     hip-hop              99\n",
      "3      reggae              98\n",
      "4   reggaeton              98\n",
      "5         edm              98\n",
      "6       latin              98\n",
      "7      latino              98\n",
      "8       piano              96\n",
      "9        rock              96\n"
     ]
    }
   ],
   "source": [
    "query5 = \"\"\"\n",
    "SELECT track_genre, MAX(popularity) AS max_popularity\n",
    "FROM dsoaws_parquet.amazon_reviews_parquet\n",
    "GROUP BY track_genre\n",
    "ORDER BY max_popularity DESC\n",
    "LIMIT 10\n",
    "\"\"\"\n",
    "df5 = wr.athena.read_sql_query(query5, database=\"dsoaws_parquet\")\n",
    "print(\"Top 10 genres by most popular track:\")\n",
    "print(df5)"
   ]
  },
  {
   "cell_type": "code",
   "execution_count": null,
   "id": "24cbaee3-b853-4aa3-8ed2-87afa0d39be4",
   "metadata": {},
   "outputs": [],
   "source": []
  }
 ],
 "metadata": {
  "kernelspec": {
   "display_name": "Python 3 (ipykernel)",
   "language": "python",
   "name": "python3"
  },
  "language_info": {
   "codemirror_mode": {
    "name": "ipython",
    "version": 3
   },
   "file_extension": ".py",
   "mimetype": "text/x-python",
   "name": "python",
   "nbconvert_exporter": "python",
   "pygments_lexer": "ipython3",
   "version": "3.12.9"
  }
 },
 "nbformat": 4,
 "nbformat_minor": 5
}
